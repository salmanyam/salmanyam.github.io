{
 "cells": [
  {
   "cell_type": "code",
   "execution_count": 52,
   "metadata": {
    "collapsed": true
   },
   "outputs": [],
   "source": [
    "import re\n",
    "import numpy as np\n",
    "import pandas as pd\n",
    "import matplotlib.pyplot as plt\n",
    "import seaborn as sns\n",
    "\n",
    "from nltk.corpus import stopwords \n",
    "from nltk import word_tokenize\n",
    "from nltk.stem import PorterStemmer, WordNetLemmatizer\n",
    "\n",
    "from sklearn.preprocessing import LabelEncoder\n",
    "from sklearn import metrics\n",
    "import sklearn.utils\n",
    "\n",
    "from sklearn.model_selection import cross_validate\n",
    "from sklearn.model_selection import StratifiedKFold\n",
    "\n",
    "from sklearn.model_selection import cross_val_predict\n",
    "from sklearn.metrics import confusion_matrix\n",
    "\n",
    "from sklearn.linear_model import LogisticRegression\n",
    "from sklearn.feature_extraction.text import TfidfVectorizer, CountVectorizer\n",
    "from sklearn.pipeline import Pipeline\n",
    "from sklearn.naive_bayes import MultinomialNB\n",
    "from sklearn.neural_network import MLPClassifier as mlp"
   ]
  },
  {
   "cell_type": "code",
   "execution_count": 2,
   "metadata": {
    "collapsed": true
   },
   "outputs": [],
   "source": [
    "data = pd.read_csv('mbti_1.csv')\n",
    "mbti = {'I':'Introversion', 'E':'Extroversion', 'N':'Intuition', \n",
    "        'S':'Sensing', 'T':'Thinking', 'F': 'Feeling', \n",
    "        'J':'Judging', 'P': 'Perceiving'}"
   ]
  },
  {
   "cell_type": "code",
   "execution_count": 3,
   "metadata": {
    "collapsed": true
   },
   "outputs": [],
   "source": [
    "def sentence_and_words(text):\n",
    "    cachedStopWords = stopwords.words(\"english\")\n",
    "    \n",
    "    stemmer = PorterStemmer()\n",
    "    lemmatizer = WordNetLemmatizer()\n",
    "\n",
    "    words = \"\"\n",
    "    line = 0\n",
    "    total_words = 0\n",
    "    \n",
    "    for item in text.split('|||'):\n",
    "        sentence = item.strip()\n",
    "        sentence = re.sub(\"[^a-zA-Z]\", \" \", sentence)\n",
    "        sentence = re.sub(' +', ' ', sentence).lower()\n",
    "        \n",
    "        if sentence and len(sentence) > 1:\n",
    "            line += 1\n",
    "            \n",
    "            new_words = [stemmer.stem(lemmatizer.lemmatize(w.strip())) for w in sentence.split(' ') \n",
    "                         if w.strip() not in cachedStopWords and len(w.strip()) > 1]\n",
    "            \n",
    "            total_words += len(new_words)\n",
    "            words += \" \".join([w for w in new_words])\n",
    "            #print(new_words)\n",
    "    return line, total_words, words"
   ]
  },
  {
   "cell_type": "code",
   "execution_count": 4,
   "metadata": {
    "collapsed": true
   },
   "outputs": [],
   "source": [
    "data['sentences'] = 0\n",
    "data['total_words'] = 0\n",
    "data['total_urls'] = 0\n",
    "data['words'] = 0\n",
    "\n",
    "total_rows = len(data)\n",
    "\n",
    "for i in range(total_rows):\n",
    "    mbti_type = data.iloc[i]['type']\n",
    "    text = data.iloc[i]['posts']\n",
    "    \n",
    "    urls = re.findall('http[s]?://(?:[a-zA-Z]|[0-9]|[$-_@.&+]|(?:%[0-9a-fA-F][0-9a-fA-F]))+',  text)\n",
    "    text = re.sub('http[s]?://(?:[a-zA-Z]|[0-9]|[$-_@.&+]|(?:%[0-9a-fA-F][0-9a-fA-F]))+', ' ', text)\n",
    "    \n",
    "    total_sentence, total_words, words = sentence_and_words(text)\n",
    "    #print(words)\n",
    "    data.loc[data.index == i, 'sentences'] = total_sentence\n",
    "    data.loc[data.index == i, 'total_words'] = total_words\n",
    "    data.loc[data.index == i, 'total_urls'] = len(urls)\n",
    "    data.loc[data.index == i, 'words'] = words"
   ]
  },
  {
   "cell_type": "code",
   "execution_count": 58,
   "metadata": {},
   "outputs": [
    {
     "data": {
      "text/html": [
       "<div>\n",
       "<style>\n",
       "    .dataframe thead tr:only-child th {\n",
       "        text-align: right;\n",
       "    }\n",
       "\n",
       "    .dataframe thead th {\n",
       "        text-align: left;\n",
       "    }\n",
       "\n",
       "    .dataframe tbody tr th {\n",
       "        vertical-align: top;\n",
       "    }\n",
       "</style>\n",
       "<table border=\"1\" class=\"dataframe\">\n",
       "  <thead>\n",
       "    <tr style=\"text-align: right;\">\n",
       "      <th></th>\n",
       "      <th>id</th>\n",
       "      <th>type</th>\n",
       "      <th>posts</th>\n",
       "      <th>sentences</th>\n",
       "      <th>total_words</th>\n",
       "      <th>total_urls</th>\n",
       "      <th>words</th>\n",
       "    </tr>\n",
       "  </thead>\n",
       "  <tbody>\n",
       "    <tr>\n",
       "      <th>0</th>\n",
       "      <td>1</td>\n",
       "      <td>INFJ</td>\n",
       "      <td>http://www.youtube.com/watch?v=qsXHcwe3krw|||h...</td>\n",
       "      <td>35</td>\n",
       "      <td>303</td>\n",
       "      <td>24</td>\n",
       "      <td>enfp intj moment sportscent top ten play prank...</td>\n",
       "    </tr>\n",
       "    <tr>\n",
       "      <th>1</th>\n",
       "      <td>2</td>\n",
       "      <td>ENTP</td>\n",
       "      <td>'I'm finding the lack of me in these posts ver...</td>\n",
       "      <td>46</td>\n",
       "      <td>554</td>\n",
       "      <td>9</td>\n",
       "      <td>find lack post alarmsex bore posit often examp...</td>\n",
       "    </tr>\n",
       "    <tr>\n",
       "      <th>2</th>\n",
       "      <td>3</td>\n",
       "      <td>INTP</td>\n",
       "      <td>'Good one  _____   https://www.youtube.com/wat...</td>\n",
       "      <td>41</td>\n",
       "      <td>427</td>\n",
       "      <td>5</td>\n",
       "      <td>good onecours say know bless cursabsolut posit...</td>\n",
       "    </tr>\n",
       "    <tr>\n",
       "      <th>3</th>\n",
       "      <td>4</td>\n",
       "      <td>INTJ</td>\n",
       "      <td>'Dear INTP,   I enjoyed our conversation the o...</td>\n",
       "      <td>50</td>\n",
       "      <td>520</td>\n",
       "      <td>2</td>\n",
       "      <td>dear intp enjoy convers day esoter gab natur u...</td>\n",
       "    </tr>\n",
       "    <tr>\n",
       "      <th>4</th>\n",
       "      <td>5</td>\n",
       "      <td>ENTJ</td>\n",
       "      <td>You're fired.|||That's another silly misconcep...</td>\n",
       "      <td>47</td>\n",
       "      <td>480</td>\n",
       "      <td>6</td>\n",
       "      <td>fireanoth silli misconcept approach logic go k...</td>\n",
       "    </tr>\n",
       "    <tr>\n",
       "      <th>5</th>\n",
       "      <td>6</td>\n",
       "      <td>INTJ</td>\n",
       "      <td>'18/37 @.@|||Science  is not perfect. No scien...</td>\n",
       "      <td>49</td>\n",
       "      <td>732</td>\n",
       "      <td>1</td>\n",
       "      <td>scienc perfect scientist claim scientif inform...</td>\n",
       "    </tr>\n",
       "    <tr>\n",
       "      <th>6</th>\n",
       "      <td>7</td>\n",
       "      <td>INFJ</td>\n",
       "      <td>'No, I can't draw on my own nails (haha). Thos...</td>\n",
       "      <td>49</td>\n",
       "      <td>651</td>\n",
       "      <td>2</td>\n",
       "      <td>draw nail haha done profession nail ye gel mea...</td>\n",
       "    </tr>\n",
       "    <tr>\n",
       "      <th>7</th>\n",
       "      <td>8</td>\n",
       "      <td>INTJ</td>\n",
       "      <td>'I tend to build up a collection of things on ...</td>\n",
       "      <td>50</td>\n",
       "      <td>593</td>\n",
       "      <td>1</td>\n",
       "      <td>tend build collect thing desktop use frequent ...</td>\n",
       "    </tr>\n",
       "    <tr>\n",
       "      <th>8</th>\n",
       "      <td>9</td>\n",
       "      <td>INFJ</td>\n",
       "      <td>I'm not sure, that's a good question. The dist...</td>\n",
       "      <td>34</td>\n",
       "      <td>371</td>\n",
       "      <td>23</td>\n",
       "      <td>sure good question distinct two depend percept...</td>\n",
       "    </tr>\n",
       "    <tr>\n",
       "      <th>9</th>\n",
       "      <td>10</td>\n",
       "      <td>INTP</td>\n",
       "      <td>'https://www.youtube.com/watch?v=w8-egj0y8Qs||...</td>\n",
       "      <td>45</td>\n",
       "      <td>647</td>\n",
       "      <td>7</td>\n",
       "      <td>posit actual let go person due variou reason u...</td>\n",
       "    </tr>\n",
       "    <tr>\n",
       "      <th>10</th>\n",
       "      <td>11</td>\n",
       "      <td>INFJ</td>\n",
       "      <td>'One time my parents were fighting over my dad...</td>\n",
       "      <td>50</td>\n",
       "      <td>716</td>\n",
       "      <td>1</td>\n",
       "      <td>one time parent fight dad affair dad push mom ...</td>\n",
       "    </tr>\n",
       "    <tr>\n",
       "      <th>11</th>\n",
       "      <td>12</td>\n",
       "      <td>ENFJ</td>\n",
       "      <td>'https://www.youtube.com/watch?v=PLAaiKvHvZs||...</td>\n",
       "      <td>41</td>\n",
       "      <td>383</td>\n",
       "      <td>3</td>\n",
       "      <td>went break month ago togeth year plan life aro...</td>\n",
       "    </tr>\n",
       "    <tr>\n",
       "      <th>12</th>\n",
       "      <td>13</td>\n",
       "      <td>INFJ</td>\n",
       "      <td>'Joe santagato - ENTP|||ENFJ or  ENTP?   I'm n...</td>\n",
       "      <td>50</td>\n",
       "      <td>629</td>\n",
       "      <td>0</td>\n",
       "      <td>joe santagato entpenfj entp sure type yetknow ...</td>\n",
       "    </tr>\n",
       "    <tr>\n",
       "      <th>13</th>\n",
       "      <td>14</td>\n",
       "      <td>INTJ</td>\n",
       "      <td>'Fair enough, if that's how you want to look a...</td>\n",
       "      <td>50</td>\n",
       "      <td>763</td>\n",
       "      <td>0</td>\n",
       "      <td>fair enough want look like state incred naiv c...</td>\n",
       "    </tr>\n",
       "    <tr>\n",
       "      <th>14</th>\n",
       "      <td>15</td>\n",
       "      <td>INTP</td>\n",
       "      <td>'Basically this...  https://youtu.be/1pH5c1Jkh...</td>\n",
       "      <td>47</td>\n",
       "      <td>446</td>\n",
       "      <td>3</td>\n",
       "      <td>basiccheezburgrfond top hat certainli expect s...</td>\n",
       "    </tr>\n",
       "    <tr>\n",
       "      <th>15</th>\n",
       "      <td>16</td>\n",
       "      <td>INTP</td>\n",
       "      <td>'Your comment screams INTJ, bro. Especially th...</td>\n",
       "      <td>50</td>\n",
       "      <td>626</td>\n",
       "      <td>1</td>\n",
       "      <td>comment scream intj bro especi useless parttha...</td>\n",
       "    </tr>\n",
       "    <tr>\n",
       "      <th>16</th>\n",
       "      <td>17</td>\n",
       "      <td>INFJ</td>\n",
       "      <td>'some of these both excite and calm me:  BUTTS...</td>\n",
       "      <td>47</td>\n",
       "      <td>677</td>\n",
       "      <td>4</td>\n",
       "      <td>excit calm butt bodi brain commun garden camp ...</td>\n",
       "    </tr>\n",
       "    <tr>\n",
       "      <th>17</th>\n",
       "      <td>18</td>\n",
       "      <td>INFP</td>\n",
       "      <td>'I think we do agree. I personally don't consi...</td>\n",
       "      <td>50</td>\n",
       "      <td>772</td>\n",
       "      <td>0</td>\n",
       "      <td>think agre person consid alpha beta foxtrot lo...</td>\n",
       "    </tr>\n",
       "    <tr>\n",
       "      <th>18</th>\n",
       "      <td>19</td>\n",
       "      <td>INFJ</td>\n",
       "      <td>'I fully believe in the power of being a prote...</td>\n",
       "      <td>50</td>\n",
       "      <td>752</td>\n",
       "      <td>0</td>\n",
       "      <td>fulli believ power protector give voic voicele...</td>\n",
       "    </tr>\n",
       "    <tr>\n",
       "      <th>19</th>\n",
       "      <td>20</td>\n",
       "      <td>INFP</td>\n",
       "      <td>'That's normal, it happens also to me. If I am...</td>\n",
       "      <td>49</td>\n",
       "      <td>607</td>\n",
       "      <td>0</td>\n",
       "      <td>normal happen also high mood act like depress ...</td>\n",
       "    </tr>\n",
       "    <tr>\n",
       "      <th>20</th>\n",
       "      <td>21</td>\n",
       "      <td>INTP</td>\n",
       "      <td>'Steve Job's was recognized for his striving f...</td>\n",
       "      <td>49</td>\n",
       "      <td>574</td>\n",
       "      <td>1</td>\n",
       "      <td>steve job recogn strive effici practic geniu s...</td>\n",
       "    </tr>\n",
       "    <tr>\n",
       "      <th>21</th>\n",
       "      <td>22</td>\n",
       "      <td>INFJ</td>\n",
       "      <td>'It is very annoying to be misinterpreted. Esp...</td>\n",
       "      <td>47</td>\n",
       "      <td>527</td>\n",
       "      <td>13</td>\n",
       "      <td>annoy misinterpret especi regard core intent d...</td>\n",
       "    </tr>\n",
       "    <tr>\n",
       "      <th>22</th>\n",
       "      <td>23</td>\n",
       "      <td>ENTJ</td>\n",
       "      <td>'Now I'm interested. But too lazy to go resear...</td>\n",
       "      <td>49</td>\n",
       "      <td>598</td>\n",
       "      <td>5</td>\n",
       "      <td>interest lazi go research time consumwelcom cl...</td>\n",
       "    </tr>\n",
       "    <tr>\n",
       "      <th>23</th>\n",
       "      <td>24</td>\n",
       "      <td>INFP</td>\n",
       "      <td>'45016 urh sorry uh. couldn't resist.|||all of...</td>\n",
       "      <td>28</td>\n",
       "      <td>323</td>\n",
       "      <td>0</td>\n",
       "      <td>urh sorri uh resistenfj pleas collect marrienf...</td>\n",
       "    </tr>\n",
       "    <tr>\n",
       "      <th>24</th>\n",
       "      <td>25</td>\n",
       "      <td>ENTJ</td>\n",
       "      <td>'Still going strong at just over the two year ...</td>\n",
       "      <td>48</td>\n",
       "      <td>508</td>\n",
       "      <td>5</td>\n",
       "      <td>still go strong two year mark made notic chang...</td>\n",
       "    </tr>\n",
       "    <tr>\n",
       "      <th>25</th>\n",
       "      <td>26</td>\n",
       "      <td>INFP</td>\n",
       "      <td>'Personally, I was thinking this would be more...</td>\n",
       "      <td>49</td>\n",
       "      <td>511</td>\n",
       "      <td>3</td>\n",
       "      <td>person think would sj type job wayissu back fi...</td>\n",
       "    </tr>\n",
       "    <tr>\n",
       "      <th>26</th>\n",
       "      <td>27</td>\n",
       "      <td>ENFP</td>\n",
       "      <td>'He doesn't want to go on the trip without me,...</td>\n",
       "      <td>50</td>\n",
       "      <td>741</td>\n",
       "      <td>0</td>\n",
       "      <td>want go trip without stay behind option think ...</td>\n",
       "    </tr>\n",
       "    <tr>\n",
       "      <th>27</th>\n",
       "      <td>28</td>\n",
       "      <td>ISFP</td>\n",
       "      <td>'They paint without numbers|||I'd guess at ist...</td>\n",
       "      <td>49</td>\n",
       "      <td>486</td>\n",
       "      <td>1</td>\n",
       "      <td>paint without numberguess istpbest bud esfp fu...</td>\n",
       "    </tr>\n",
       "    <tr>\n",
       "      <th>28</th>\n",
       "      <td>29</td>\n",
       "      <td>INFP</td>\n",
       "      <td>'Basically, my main questions are : What do yo...</td>\n",
       "      <td>47</td>\n",
       "      <td>711</td>\n",
       "      <td>0</td>\n",
       "      <td>basic main question believ valu matter sorri t...</td>\n",
       "    </tr>\n",
       "    <tr>\n",
       "      <th>29</th>\n",
       "      <td>30</td>\n",
       "      <td>INFJ</td>\n",
       "      <td>'I think that that can absolutely be true of i...</td>\n",
       "      <td>49</td>\n",
       "      <td>710</td>\n",
       "      <td>3</td>\n",
       "      <td>think absolut true infj shame much potenti dep...</td>\n",
       "    </tr>\n",
       "    <tr>\n",
       "      <th>...</th>\n",
       "      <td>...</td>\n",
       "      <td>...</td>\n",
       "      <td>...</td>\n",
       "      <td>...</td>\n",
       "      <td>...</td>\n",
       "      <td>...</td>\n",
       "      <td>...</td>\n",
       "    </tr>\n",
       "    <tr>\n",
       "      <th>8645</th>\n",
       "      <td>8646</td>\n",
       "      <td>INFJ</td>\n",
       "      <td>'I play cello, and I'm also a classically trai...</td>\n",
       "      <td>50</td>\n",
       "      <td>701</td>\n",
       "      <td>10</td>\n",
       "      <td>play cello also classic train soprano play pia...</td>\n",
       "    </tr>\n",
       "    <tr>\n",
       "      <th>8646</th>\n",
       "      <td>8647</td>\n",
       "      <td>INFP</td>\n",
       "      <td>Its more or less based on how YOU experienced ...</td>\n",
       "      <td>50</td>\n",
       "      <td>652</td>\n",
       "      <td>1</td>\n",
       "      <td>le base experienc thing person life teen earli...</td>\n",
       "    </tr>\n",
       "    <tr>\n",
       "      <th>8647</th>\n",
       "      <td>8648</td>\n",
       "      <td>INTP</td>\n",
       "      <td>Socionics picked up on this.  They call it vis...</td>\n",
       "      <td>50</td>\n",
       "      <td>644</td>\n",
       "      <td>0</td>\n",
       "      <td>socion pick call visual identif also thought l...</td>\n",
       "    </tr>\n",
       "    <tr>\n",
       "      <th>8648</th>\n",
       "      <td>8649</td>\n",
       "      <td>INFP</td>\n",
       "      <td>'Good advice, thank you.|||I am in a tough sit...</td>\n",
       "      <td>47</td>\n",
       "      <td>620</td>\n",
       "      <td>9</td>\n",
       "      <td>good advic thanktough situat right could use h...</td>\n",
       "    </tr>\n",
       "    <tr>\n",
       "      <th>8649</th>\n",
       "      <td>8650</td>\n",
       "      <td>INFP</td>\n",
       "      <td>https://www.youtube.com/watch?v=nPDusM-75FE  e...</td>\n",
       "      <td>24</td>\n",
       "      <td>144</td>\n",
       "      <td>37</td>\n",
       "      <td>enjoy infpokok let stop kick walk stick tskkk ...</td>\n",
       "    </tr>\n",
       "    <tr>\n",
       "      <th>8650</th>\n",
       "      <td>8651</td>\n",
       "      <td>INFJ</td>\n",
       "      <td>'I think the real question is whether INFJs ca...</td>\n",
       "      <td>47</td>\n",
       "      <td>560</td>\n",
       "      <td>5</td>\n",
       "      <td>think real question whether infj neat domin fu...</td>\n",
       "    </tr>\n",
       "    <tr>\n",
       "      <th>8651</th>\n",
       "      <td>8652</td>\n",
       "      <td>ISTP</td>\n",
       "      <td>'-Being alone -Being insensitive  -Over thinki...</td>\n",
       "      <td>49</td>\n",
       "      <td>621</td>\n",
       "      <td>1</td>\n",
       "      <td>alon insensit think loudsocial servic gerontol...</td>\n",
       "    </tr>\n",
       "    <tr>\n",
       "      <th>8652</th>\n",
       "      <td>8653</td>\n",
       "      <td>ISFJ</td>\n",
       "      <td>'Being assertive and standing up for myself is...</td>\n",
       "      <td>49</td>\n",
       "      <td>726</td>\n",
       "      <td>2</td>\n",
       "      <td>assert stand someth struggl day worri think ne...</td>\n",
       "    </tr>\n",
       "    <tr>\n",
       "      <th>8653</th>\n",
       "      <td>8654</td>\n",
       "      <td>INFP</td>\n",
       "      <td>'You should do whatever it is you want. If you...</td>\n",
       "      <td>49</td>\n",
       "      <td>739</td>\n",
       "      <td>3</td>\n",
       "      <td>whatev want privat person mayb meant facebook ...</td>\n",
       "    </tr>\n",
       "    <tr>\n",
       "      <th>8654</th>\n",
       "      <td>8655</td>\n",
       "      <td>ISTJ</td>\n",
       "      <td>'Assuming I had a hand in it, I always at leas...</td>\n",
       "      <td>50</td>\n",
       "      <td>726</td>\n",
       "      <td>0</td>\n",
       "      <td>assum hand alway least consid possibl culpabl ...</td>\n",
       "    </tr>\n",
       "    <tr>\n",
       "      <th>8655</th>\n",
       "      <td>8656</td>\n",
       "      <td>INFJ</td>\n",
       "      <td>'I find that poster and your facial expression...</td>\n",
       "      <td>49</td>\n",
       "      <td>650</td>\n",
       "      <td>7</td>\n",
       "      <td>find poster facial express along fact intp iro...</td>\n",
       "    </tr>\n",
       "    <tr>\n",
       "      <th>8656</th>\n",
       "      <td>8657</td>\n",
       "      <td>INFJ</td>\n",
       "      <td>Rim  In some approximate order, it seems like ...</td>\n",
       "      <td>50</td>\n",
       "      <td>767</td>\n",
       "      <td>1</td>\n",
       "      <td>rim approxim order seem like make decis right ...</td>\n",
       "    </tr>\n",
       "    <tr>\n",
       "      <th>8657</th>\n",
       "      <td>8658</td>\n",
       "      <td>INTJ</td>\n",
       "      <td>Social  1) Generally, I positively associate w...</td>\n",
       "      <td>50</td>\n",
       "      <td>643</td>\n",
       "      <td>0</td>\n",
       "      <td>social gener posit associ idea part someth lar...</td>\n",
       "    </tr>\n",
       "    <tr>\n",
       "      <th>8658</th>\n",
       "      <td>8659</td>\n",
       "      <td>ESFJ</td>\n",
       "      <td>'Don't worry, I do that too when a car comes c...</td>\n",
       "      <td>50</td>\n",
       "      <td>840</td>\n",
       "      <td>0</td>\n",
       "      <td>worri car come close behind least chang lane c...</td>\n",
       "    </tr>\n",
       "    <tr>\n",
       "      <th>8659</th>\n",
       "      <td>8660</td>\n",
       "      <td>ENFP</td>\n",
       "      <td>'leoni I had really bad social anxiety until I...</td>\n",
       "      <td>50</td>\n",
       "      <td>630</td>\n",
       "      <td>1</td>\n",
       "      <td>leoni realli bad social anxieti took medicin h...</td>\n",
       "    </tr>\n",
       "    <tr>\n",
       "      <th>8660</th>\n",
       "      <td>8661</td>\n",
       "      <td>INFP</td>\n",
       "      <td>'I love the vastness of the sky, because my pr...</td>\n",
       "      <td>48</td>\n",
       "      <td>561</td>\n",
       "      <td>4</td>\n",
       "      <td>love vast sky problem sad alway seem granular ...</td>\n",
       "    </tr>\n",
       "    <tr>\n",
       "      <th>8661</th>\n",
       "      <td>8662</td>\n",
       "      <td>ENTP</td>\n",
       "      <td>'**haven't logged in and read posts for over 6...</td>\n",
       "      <td>50</td>\n",
       "      <td>734</td>\n",
       "      <td>0</td>\n",
       "      <td>log read post month catch everyth black belt s...</td>\n",
       "    </tr>\n",
       "    <tr>\n",
       "      <th>8662</th>\n",
       "      <td>8663</td>\n",
       "      <td>INTJ</td>\n",
       "      <td>'I can't say I have any one specific belief. I...</td>\n",
       "      <td>50</td>\n",
       "      <td>663</td>\n",
       "      <td>2</td>\n",
       "      <td>say one specif belief mean limit one simpl cod...</td>\n",
       "    </tr>\n",
       "    <tr>\n",
       "      <th>8663</th>\n",
       "      <td>8664</td>\n",
       "      <td>INTP</td>\n",
       "      <td>'doesn't matter, you don't have a choice, Elec...</td>\n",
       "      <td>48</td>\n",
       "      <td>437</td>\n",
       "      <td>2</td>\n",
       "      <td>matter choic elect scamaccord dave johnson dea...</td>\n",
       "    </tr>\n",
       "    <tr>\n",
       "      <th>8664</th>\n",
       "      <td>8665</td>\n",
       "      <td>INTP</td>\n",
       "      <td>'https://www.youtube.com/watch?v=7zsMdi714mI||...</td>\n",
       "      <td>34</td>\n",
       "      <td>566</td>\n",
       "      <td>3</td>\n",
       "      <td>mani say tie groundhog day good get ahintp pla...</td>\n",
       "    </tr>\n",
       "    <tr>\n",
       "      <th>8665</th>\n",
       "      <td>8666</td>\n",
       "      <td>ENTP</td>\n",
       "      <td>'This test wasn't even close on my gender, age...</td>\n",
       "      <td>50</td>\n",
       "      <td>709</td>\n",
       "      <td>1</td>\n",
       "      <td>test even close gender age mbti typeinterest c...</td>\n",
       "    </tr>\n",
       "    <tr>\n",
       "      <th>8666</th>\n",
       "      <td>8667</td>\n",
       "      <td>INTJ</td>\n",
       "      <td>'Highly recommend this to those who wants to t...</td>\n",
       "      <td>49</td>\n",
       "      <td>622</td>\n",
       "      <td>4</td>\n",
       "      <td>highli recommend want tri listen asian music k...</td>\n",
       "    </tr>\n",
       "    <tr>\n",
       "      <th>8667</th>\n",
       "      <td>8668</td>\n",
       "      <td>ENTP</td>\n",
       "      <td>'I think generally people experience post trau...</td>\n",
       "      <td>49</td>\n",
       "      <td>707</td>\n",
       "      <td>1</td>\n",
       "      <td>think gener peopl experi post trauma similar w...</td>\n",
       "    </tr>\n",
       "    <tr>\n",
       "      <th>8668</th>\n",
       "      <td>8669</td>\n",
       "      <td>INTJ</td>\n",
       "      <td>'Here's a planned stress relieving activity th...</td>\n",
       "      <td>49</td>\n",
       "      <td>521</td>\n",
       "      <td>6</td>\n",
       "      <td>plan stress reliev activ work last day ever se...</td>\n",
       "    </tr>\n",
       "    <tr>\n",
       "      <th>8669</th>\n",
       "      <td>8670</td>\n",
       "      <td>INFJ</td>\n",
       "      <td>'I'm not sure about a method for picking out I...</td>\n",
       "      <td>49</td>\n",
       "      <td>608</td>\n",
       "      <td>15</td>\n",
       "      <td>sure method pick infj music artist anoth name ...</td>\n",
       "    </tr>\n",
       "    <tr>\n",
       "      <th>8670</th>\n",
       "      <td>8671</td>\n",
       "      <td>ISFP</td>\n",
       "      <td>'https://www.youtube.com/watch?v=t8edHB_h908||...</td>\n",
       "      <td>46</td>\n",
       "      <td>402</td>\n",
       "      <td>7</td>\n",
       "      <td>ixfp alway think cat fi dom reasonespeci websi...</td>\n",
       "    </tr>\n",
       "    <tr>\n",
       "      <th>8671</th>\n",
       "      <td>8672</td>\n",
       "      <td>ENFP</td>\n",
       "      <td>'So...if this thread already exists someplace ...</td>\n",
       "      <td>50</td>\n",
       "      <td>619</td>\n",
       "      <td>2</td>\n",
       "      <td>thread alreadi exist someplac els post heck de...</td>\n",
       "    </tr>\n",
       "    <tr>\n",
       "      <th>8672</th>\n",
       "      <td>8673</td>\n",
       "      <td>INTP</td>\n",
       "      <td>'So many questions when i do these things.  I ...</td>\n",
       "      <td>47</td>\n",
       "      <td>485</td>\n",
       "      <td>2</td>\n",
       "      <td>mani question thing would take purpl pill pick...</td>\n",
       "    </tr>\n",
       "    <tr>\n",
       "      <th>8673</th>\n",
       "      <td>8674</td>\n",
       "      <td>INFP</td>\n",
       "      <td>'I am very conflicted right now when it comes ...</td>\n",
       "      <td>50</td>\n",
       "      <td>766</td>\n",
       "      <td>0</td>\n",
       "      <td>conflict right come want child honestli matern...</td>\n",
       "    </tr>\n",
       "    <tr>\n",
       "      <th>8674</th>\n",
       "      <td>8675</td>\n",
       "      <td>INFP</td>\n",
       "      <td>'It has been too long since I have been on per...</td>\n",
       "      <td>49</td>\n",
       "      <td>609</td>\n",
       "      <td>3</td>\n",
       "      <td>long sinc personalitycaf although seem chang o...</td>\n",
       "    </tr>\n",
       "  </tbody>\n",
       "</table>\n",
       "<p>8675 rows × 7 columns</p>\n",
       "</div>"
      ],
      "text/plain": [
       "        id  type                                              posts  \\\n",
       "0        1  INFJ  http://www.youtube.com/watch?v=qsXHcwe3krw|||h...   \n",
       "1        2  ENTP  'I'm finding the lack of me in these posts ver...   \n",
       "2        3  INTP  'Good one  _____   https://www.youtube.com/wat...   \n",
       "3        4  INTJ  'Dear INTP,   I enjoyed our conversation the o...   \n",
       "4        5  ENTJ  You're fired.|||That's another silly misconcep...   \n",
       "5        6  INTJ  '18/37 @.@|||Science  is not perfect. No scien...   \n",
       "6        7  INFJ  'No, I can't draw on my own nails (haha). Thos...   \n",
       "7        8  INTJ  'I tend to build up a collection of things on ...   \n",
       "8        9  INFJ  I'm not sure, that's a good question. The dist...   \n",
       "9       10  INTP  'https://www.youtube.com/watch?v=w8-egj0y8Qs||...   \n",
       "10      11  INFJ  'One time my parents were fighting over my dad...   \n",
       "11      12  ENFJ  'https://www.youtube.com/watch?v=PLAaiKvHvZs||...   \n",
       "12      13  INFJ  'Joe santagato - ENTP|||ENFJ or  ENTP?   I'm n...   \n",
       "13      14  INTJ  'Fair enough, if that's how you want to look a...   \n",
       "14      15  INTP  'Basically this...  https://youtu.be/1pH5c1Jkh...   \n",
       "15      16  INTP  'Your comment screams INTJ, bro. Especially th...   \n",
       "16      17  INFJ  'some of these both excite and calm me:  BUTTS...   \n",
       "17      18  INFP  'I think we do agree. I personally don't consi...   \n",
       "18      19  INFJ  'I fully believe in the power of being a prote...   \n",
       "19      20  INFP  'That's normal, it happens also to me. If I am...   \n",
       "20      21  INTP  'Steve Job's was recognized for his striving f...   \n",
       "21      22  INFJ  'It is very annoying to be misinterpreted. Esp...   \n",
       "22      23  ENTJ  'Now I'm interested. But too lazy to go resear...   \n",
       "23      24  INFP  '45016 urh sorry uh. couldn't resist.|||all of...   \n",
       "24      25  ENTJ  'Still going strong at just over the two year ...   \n",
       "25      26  INFP  'Personally, I was thinking this would be more...   \n",
       "26      27  ENFP  'He doesn't want to go on the trip without me,...   \n",
       "27      28  ISFP  'They paint without numbers|||I'd guess at ist...   \n",
       "28      29  INFP  'Basically, my main questions are : What do yo...   \n",
       "29      30  INFJ  'I think that that can absolutely be true of i...   \n",
       "...    ...   ...                                                ...   \n",
       "8645  8646  INFJ  'I play cello, and I'm also a classically trai...   \n",
       "8646  8647  INFP  Its more or less based on how YOU experienced ...   \n",
       "8647  8648  INTP  Socionics picked up on this.  They call it vis...   \n",
       "8648  8649  INFP  'Good advice, thank you.|||I am in a tough sit...   \n",
       "8649  8650  INFP  https://www.youtube.com/watch?v=nPDusM-75FE  e...   \n",
       "8650  8651  INFJ  'I think the real question is whether INFJs ca...   \n",
       "8651  8652  ISTP  '-Being alone -Being insensitive  -Over thinki...   \n",
       "8652  8653  ISFJ  'Being assertive and standing up for myself is...   \n",
       "8653  8654  INFP  'You should do whatever it is you want. If you...   \n",
       "8654  8655  ISTJ  'Assuming I had a hand in it, I always at leas...   \n",
       "8655  8656  INFJ  'I find that poster and your facial expression...   \n",
       "8656  8657  INFJ  Rim  In some approximate order, it seems like ...   \n",
       "8657  8658  INTJ  Social  1) Generally, I positively associate w...   \n",
       "8658  8659  ESFJ  'Don't worry, I do that too when a car comes c...   \n",
       "8659  8660  ENFP  'leoni I had really bad social anxiety until I...   \n",
       "8660  8661  INFP  'I love the vastness of the sky, because my pr...   \n",
       "8661  8662  ENTP  '**haven't logged in and read posts for over 6...   \n",
       "8662  8663  INTJ  'I can't say I have any one specific belief. I...   \n",
       "8663  8664  INTP  'doesn't matter, you don't have a choice, Elec...   \n",
       "8664  8665  INTP  'https://www.youtube.com/watch?v=7zsMdi714mI||...   \n",
       "8665  8666  ENTP  'This test wasn't even close on my gender, age...   \n",
       "8666  8667  INTJ  'Highly recommend this to those who wants to t...   \n",
       "8667  8668  ENTP  'I think generally people experience post trau...   \n",
       "8668  8669  INTJ  'Here's a planned stress relieving activity th...   \n",
       "8669  8670  INFJ  'I'm not sure about a method for picking out I...   \n",
       "8670  8671  ISFP  'https://www.youtube.com/watch?v=t8edHB_h908||...   \n",
       "8671  8672  ENFP  'So...if this thread already exists someplace ...   \n",
       "8672  8673  INTP  'So many questions when i do these things.  I ...   \n",
       "8673  8674  INFP  'I am very conflicted right now when it comes ...   \n",
       "8674  8675  INFP  'It has been too long since I have been on per...   \n",
       "\n",
       "      sentences  total_words  total_urls  \\\n",
       "0            35          303          24   \n",
       "1            46          554           9   \n",
       "2            41          427           5   \n",
       "3            50          520           2   \n",
       "4            47          480           6   \n",
       "5            49          732           1   \n",
       "6            49          651           2   \n",
       "7            50          593           1   \n",
       "8            34          371          23   \n",
       "9            45          647           7   \n",
       "10           50          716           1   \n",
       "11           41          383           3   \n",
       "12           50          629           0   \n",
       "13           50          763           0   \n",
       "14           47          446           3   \n",
       "15           50          626           1   \n",
       "16           47          677           4   \n",
       "17           50          772           0   \n",
       "18           50          752           0   \n",
       "19           49          607           0   \n",
       "20           49          574           1   \n",
       "21           47          527          13   \n",
       "22           49          598           5   \n",
       "23           28          323           0   \n",
       "24           48          508           5   \n",
       "25           49          511           3   \n",
       "26           50          741           0   \n",
       "27           49          486           1   \n",
       "28           47          711           0   \n",
       "29           49          710           3   \n",
       "...         ...          ...         ...   \n",
       "8645         50          701          10   \n",
       "8646         50          652           1   \n",
       "8647         50          644           0   \n",
       "8648         47          620           9   \n",
       "8649         24          144          37   \n",
       "8650         47          560           5   \n",
       "8651         49          621           1   \n",
       "8652         49          726           2   \n",
       "8653         49          739           3   \n",
       "8654         50          726           0   \n",
       "8655         49          650           7   \n",
       "8656         50          767           1   \n",
       "8657         50          643           0   \n",
       "8658         50          840           0   \n",
       "8659         50          630           1   \n",
       "8660         48          561           4   \n",
       "8661         50          734           0   \n",
       "8662         50          663           2   \n",
       "8663         48          437           2   \n",
       "8664         34          566           3   \n",
       "8665         50          709           1   \n",
       "8666         49          622           4   \n",
       "8667         49          707           1   \n",
       "8668         49          521           6   \n",
       "8669         49          608          15   \n",
       "8670         46          402           7   \n",
       "8671         50          619           2   \n",
       "8672         47          485           2   \n",
       "8673         50          766           0   \n",
       "8674         49          609           3   \n",
       "\n",
       "                                                  words  \n",
       "0     enfp intj moment sportscent top ten play prank...  \n",
       "1     find lack post alarmsex bore posit often examp...  \n",
       "2     good onecours say know bless cursabsolut posit...  \n",
       "3     dear intp enjoy convers day esoter gab natur u...  \n",
       "4     fireanoth silli misconcept approach logic go k...  \n",
       "5     scienc perfect scientist claim scientif inform...  \n",
       "6     draw nail haha done profession nail ye gel mea...  \n",
       "7     tend build collect thing desktop use frequent ...  \n",
       "8     sure good question distinct two depend percept...  \n",
       "9     posit actual let go person due variou reason u...  \n",
       "10    one time parent fight dad affair dad push mom ...  \n",
       "11    went break month ago togeth year plan life aro...  \n",
       "12    joe santagato entpenfj entp sure type yetknow ...  \n",
       "13    fair enough want look like state incred naiv c...  \n",
       "14    basiccheezburgrfond top hat certainli expect s...  \n",
       "15    comment scream intj bro especi useless parttha...  \n",
       "16    excit calm butt bodi brain commun garden camp ...  \n",
       "17    think agre person consid alpha beta foxtrot lo...  \n",
       "18    fulli believ power protector give voic voicele...  \n",
       "19    normal happen also high mood act like depress ...  \n",
       "20    steve job recogn strive effici practic geniu s...  \n",
       "21    annoy misinterpret especi regard core intent d...  \n",
       "22    interest lazi go research time consumwelcom cl...  \n",
       "23    urh sorri uh resistenfj pleas collect marrienf...  \n",
       "24    still go strong two year mark made notic chang...  \n",
       "25    person think would sj type job wayissu back fi...  \n",
       "26    want go trip without stay behind option think ...  \n",
       "27    paint without numberguess istpbest bud esfp fu...  \n",
       "28    basic main question believ valu matter sorri t...  \n",
       "29    think absolut true infj shame much potenti dep...  \n",
       "...                                                 ...  \n",
       "8645  play cello also classic train soprano play pia...  \n",
       "8646  le base experienc thing person life teen earli...  \n",
       "8647  socion pick call visual identif also thought l...  \n",
       "8648  good advic thanktough situat right could use h...  \n",
       "8649  enjoy infpokok let stop kick walk stick tskkk ...  \n",
       "8650  think real question whether infj neat domin fu...  \n",
       "8651  alon insensit think loudsocial servic gerontol...  \n",
       "8652  assert stand someth struggl day worri think ne...  \n",
       "8653  whatev want privat person mayb meant facebook ...  \n",
       "8654  assum hand alway least consid possibl culpabl ...  \n",
       "8655  find poster facial express along fact intp iro...  \n",
       "8656  rim approxim order seem like make decis right ...  \n",
       "8657  social gener posit associ idea part someth lar...  \n",
       "8658  worri car come close behind least chang lane c...  \n",
       "8659  leoni realli bad social anxieti took medicin h...  \n",
       "8660  love vast sky problem sad alway seem granular ...  \n",
       "8661  log read post month catch everyth black belt s...  \n",
       "8662  say one specif belief mean limit one simpl cod...  \n",
       "8663  matter choic elect scamaccord dave johnson dea...  \n",
       "8664  mani say tie groundhog day good get ahintp pla...  \n",
       "8665  test even close gender age mbti typeinterest c...  \n",
       "8666  highli recommend want tri listen asian music k...  \n",
       "8667  think gener peopl experi post trauma similar w...  \n",
       "8668  plan stress reliev activ work last day ever se...  \n",
       "8669  sure method pick infj music artist anoth name ...  \n",
       "8670  ixfp alway think cat fi dom reasonespeci websi...  \n",
       "8671  thread alreadi exist someplac els post heck de...  \n",
       "8672  mani question thing would take purpl pill pick...  \n",
       "8673  conflict right come want child honestli matern...  \n",
       "8674  long sinc personalitycaf although seem chang o...  \n",
       "\n",
       "[8675 rows x 7 columns]"
      ]
     },
     "execution_count": 58,
     "metadata": {},
     "output_type": "execute_result"
    }
   ],
   "source": [
    "data"
   ]
  },
  {
   "cell_type": "markdown",
   "metadata": {},
   "source": [
    "### Basic functionality for generating confusion matrix"
   ]
  },
  {
   "cell_type": "code",
   "execution_count": 29,
   "metadata": {
    "collapsed": true
   },
   "outputs": [],
   "source": [
    "def plot_confusion_matrix(cm, classes,\n",
    "                          normalize=False,\n",
    "                          title='Confusion matrix',\n",
    "                          cmap=plt.cm.Blues):\n",
    "    \"\"\"\n",
    "    This function prints and plots the confusion matrix.\n",
    "    \"\"\"\n",
    "    if normalize:\n",
    "        cm = cm.astype('float') / cm.sum(axis=1)[:, np.newaxis]\n",
    "        print(\"Confusion matrix\")\n",
    "    else:\n",
    "        print('Confusion matrix, without normalization')\n",
    "    \n",
    "    plt.imshow(cm, interpolation='nearest', cmap=cmap)\n",
    "    plt.title(title)\n",
    "    plt.colorbar()\n",
    "    tick_marks = np.arange(len(classes))\n",
    "    plt.xticks(tick_marks, classes, rotation=45)\n",
    "    plt.yticks(tick_marks, classes)\n",
    "\n",
    "    plt.tight_layout()\n",
    "    plt.ylabel('True label')\n",
    "    plt.xlabel('Predicted label')"
   ]
  },
  {
   "cell_type": "code",
   "execution_count": 30,
   "metadata": {
    "collapsed": true
   },
   "outputs": [],
   "source": [
    "mbti_types = ['INFJ', 'ENTP', 'INTP', 'INTJ', 'ENTJ', 'ENFJ', 'INFP', 'ENFP',\n",
    "       'ISFP', 'ISTP', 'ISFJ', 'ISTJ', 'ESTP', 'ESFP', 'ESTJ', 'ESFJ']\n",
    "\n",
    "mbti_types_encoder = LabelEncoder().fit(mbti_types)"
   ]
  },
  {
   "cell_type": "markdown",
   "metadata": {},
   "source": [
    "## Dividing dataset to train and test set "
   ]
  },
  {
   "cell_type": "code",
   "execution_count": 5,
   "metadata": {
    "collapsed": true
   },
   "outputs": [],
   "source": [
    "all_data = sklearn.utils.shuffle(data).reset_index(drop=True)\n",
    "all_data = sklearn.utils.shuffle(all_data).reset_index(drop=True)\n",
    "all_data = sklearn.utils.shuffle(all_data).reset_index(drop=True)\n",
    "\n",
    "all_data = all_data[['type', 'posts', 'sentences', 'total_words', 'words', 'total_urls']]\n",
    "\n",
    "length = len(all_data)\n",
    "train_data_len = np.floor(length * 0.8).astype(int)\n",
    "\n",
    "train_data = all_data.head(train_data_len)\n",
    "test_data = all_data.tail(length - train_data_len)"
   ]
  },
  {
   "cell_type": "code",
   "execution_count": 6,
   "metadata": {},
   "outputs": [
    {
     "data": {
      "text/plain": [
       "6940"
      ]
     },
     "execution_count": 6,
     "metadata": {},
     "output_type": "execute_result"
    }
   ],
   "source": [
    "len(train_data)"
   ]
  },
  {
   "cell_type": "code",
   "execution_count": 7,
   "metadata": {},
   "outputs": [
    {
     "data": {
      "text/plain": [
       "1735"
      ]
     },
     "execution_count": 7,
     "metadata": {},
     "output_type": "execute_result"
    }
   ],
   "source": [
    "len(test_data)"
   ]
  },
  {
   "cell_type": "code",
   "execution_count": 18,
   "metadata": {},
   "outputs": [],
   "source": [
    "#all_data['type']"
   ]
  },
  {
   "cell_type": "markdown",
   "metadata": {},
   "source": [
    "# Multinomial Naive Bayes with Count Vectorization"
   ]
  },
  {
   "cell_type": "markdown",
   "metadata": {},
   "source": [
    "### Convert a collection of text documents to a matrix of token counts"
   ]
  },
  {
   "cell_type": "code",
   "execution_count": 11,
   "metadata": {
    "collapsed": true
   },
   "outputs": [],
   "source": [
    "np.random.seed(1)\n",
    "tf_idf_similarity = CountVectorizer(ngram_range=(1, 1), stop_words='english', lowercase = True, max_features = 5000)"
   ]
  },
  {
   "cell_type": "markdown",
   "metadata": {},
   "source": [
    "### Applying the multinomial Naive Bayes and cross validating the model"
   ]
  },
  {
   "cell_type": "code",
   "execution_count": 16,
   "metadata": {
    "collapsed": true
   },
   "outputs": [],
   "source": [
    "mn_nb_model = Pipeline([('tf_idf_similarity', tf_idf_similarity), ('mn_nb_model', MultinomialNB())])\n",
    "num_folds = StratifiedKFold(n_splits=5, shuffle=True, random_state=1)\n",
    "mn_nb_results = cross_validate(mn_nb_model, all_data['words'], all_data['type'], cv=num_folds, n_jobs=-1)"
   ]
  },
  {
   "cell_type": "markdown",
   "metadata": {},
   "source": [
    "### Accuarcy of multinomial Naive Bayes with CountVectorizer"
   ]
  },
  {
   "cell_type": "code",
   "execution_count": 32,
   "metadata": {},
   "outputs": [
    {
     "data": {
      "text/plain": [
       "0.53441774276792087"
      ]
     },
     "execution_count": 32,
     "metadata": {},
     "output_type": "execute_result"
    }
   ],
   "source": [
    "np.mean(mn_nb_results['test_score'])"
   ]
  },
  {
   "cell_type": "markdown",
   "metadata": {},
   "source": [
    "### Predict the labels"
   ]
  },
  {
   "cell_type": "code",
   "execution_count": 22,
   "metadata": {},
   "outputs": [],
   "source": [
    "predicted_labels = cross_val_predict(mn_nb_model, all_data['words'], all_data['type'], cv = num_folds)"
   ]
  },
  {
   "cell_type": "code",
   "execution_count": 33,
   "metadata": {
    "scrolled": true
   },
   "outputs": [
    {
     "data": {
      "text/plain": [
       "array(['ENFP', 'ISFP', 'INFJ', ..., 'ENTP', 'INFP', 'INTP'], \n",
       "      dtype='<U4')"
      ]
     },
     "execution_count": 33,
     "metadata": {},
     "output_type": "execute_result"
    }
   ],
   "source": [
    "predicted_labels"
   ]
  },
  {
   "cell_type": "markdown",
   "metadata": {},
   "source": [
    "### Plot the confusion matrix"
   ]
  },
  {
   "cell_type": "code",
   "execution_count": 31,
   "metadata": {},
   "outputs": [
    {
     "name": "stdout",
     "output_type": "stream",
     "text": [
      "Confusion matrix\n"
     ]
    },
    {
     "data": {
      "image/png": "[encoded data removed]",
      "text/plain": [
       "<matplotlib.figure.Figure at 0x233869576a0>"
      ]
     },
     "metadata": {},
     "output_type": "display_data"
    }
   ],
   "source": [
    "actual_labels = all_data['type'].tolist()\n",
    "cnf_matrix = metrics.confusion_matrix(actual_labels, predicted_labels)\n",
    "np.set_printoptions(precision=2)\n",
    "# Plot confusion matrix\n",
    "plt.figure(4)\n",
    "#fig_i += 1\n",
    "plot_confusion_matrix(cnf_matrix, classes=mbti_types_encoder.inverse_transform(range(16)), normalize=True,\n",
    "                                          title=('Confusion matrix Multinomial Naive Bayes with Count Vectorizer'))\n",
    "plt.savefig('confusion_matrix_mn_nb_count_vectorizer.png', dpi=100)\n",
    "#plt.savefig('confusion_matrix_naive_bayes.png', bbox_inches='tight', dpi=100)\n",
    "plt.show()"
   ]
  },
  {
   "cell_type": "markdown",
   "metadata": {},
   "source": [
    "# Logistic Regression with Count Vectorization"
   ]
  },
  {
   "cell_type": "markdown",
   "metadata": {},
   "source": [
    "### Applying logistic regression and cross validating the model"
   ]
  },
  {
   "cell_type": "code",
   "execution_count": 47,
   "metadata": {
    "collapsed": true
   },
   "outputs": [],
   "source": [
    "logistic = LogisticRegression(class_weight=\"balanced\", C=0.005)\n",
    "logistic_model = Pipeline([('tf_idf_similarity', tf_idf_similarity), ('logistic_model', logistic)])\n",
    "num_folds = StratifiedKFold(n_splits=5, shuffle=True, random_state=1)\n",
    "logistic_results = cross_validate(logistic_model, all_data['words'], all_data['type'], cv=num_folds, n_jobs=-1)"
   ]
  },
  {
   "cell_type": "markdown",
   "metadata": {},
   "source": [
    "### Accuarcy of logistic regression model with CountVectorizer"
   ]
  },
  {
   "cell_type": "code",
   "execution_count": 48,
   "metadata": {},
   "outputs": [
    {
     "data": {
      "text/plain": [
       "0.63990063532580577"
      ]
     },
     "execution_count": 48,
     "metadata": {},
     "output_type": "execute_result"
    }
   ],
   "source": [
    "np.mean(logistic_results['test_score'])"
   ]
  },
  {
   "cell_type": "markdown",
   "metadata": {},
   "source": [
    "### Predict the labels"
   ]
  },
  {
   "cell_type": "code",
   "execution_count": 59,
   "metadata": {},
   "outputs": [
    {
     "data": {
      "text/plain": [
       "array(['ENFP', 'INTJ', 'INFJ', ..., 'INFJ', 'INFP', 'INFP'], dtype=object)"
      ]
     },
     "execution_count": 59,
     "metadata": {},
     "output_type": "execute_result"
    }
   ],
   "source": [
    "predicted_labels = cross_val_predict(logistic_model, all_data['words'], all_data['type'], cv = num_folds)\n",
    "predicted_labels"
   ]
  },
  {
   "cell_type": "markdown",
   "metadata": {},
   "source": [
    "### Plot the confusion matrix"
   ]
  },
  {
   "cell_type": "code",
   "execution_count": 60,
   "metadata": {},
   "outputs": [
    {
     "name": "stdout",
     "output_type": "stream",
     "text": [
      "Confusion matrix\n"
     ]
    },
    {
     "data": {
      "image/png": "[encoded data removed]",
      "text/plain": [
       "<matplotlib.figure.Figure at 0x2338a0b6ba8>"
      ]
     },
     "metadata": {},
     "output_type": "display_data"
    }
   ],
   "source": [
    "actual_labels = all_data['type'].tolist()\n",
    "cnf_matrix = metrics.confusion_matrix(actual_labels, predicted_labels)\n",
    "np.set_printoptions(precision=2)\n",
    "\n",
    "plt.figure(5)\n",
    "#fig_i += 1\n",
    "plot_confusion_matrix(cnf_matrix, classes=mbti_types_encoder.inverse_transform(range(16)), normalize=True,\n",
    "                                          title=('Confusion matrix Logistic Regression with Count Vectorizer'))\n",
    "plt.savefig('confusion_matrix_lr_count_vectorizer.png', dpi=100)\n",
    "#plt.savefig('confusion_matrix_naive_bayes.png', bbox_inches='tight', dpi=100)\n",
    "plt.show()"
   ]
  },
  {
   "cell_type": "markdown",
   "metadata": {},
   "source": [
    "# Multilayer Perceptron with with Count Vectorization"
   ]
  },
  {
   "cell_type": "markdown",
   "metadata": {},
   "source": [
    "### Applying multilayer percentron and cross validating the model"
   ]
  },
  {
   "cell_type": "code",
   "execution_count": 53,
   "metadata": {
    "collapsed": true
   },
   "outputs": [],
   "source": [
    "mlp_model = mlp(solver='lbfgs', activation='logistic', alpha=1e-5, hidden_layer_sizes=(20, 6), \n",
    "            random_state=1, max_iter=500)\n",
    "mlp_model = Pipeline([('tf_idf_similarity', tf_idf_similarity), ('mlp_model', mlp_model)])\n",
    "num_folds = StratifiedKFold(n_splits=5, shuffle=True, random_state=1)\n",
    "mlp_results = cross_validate(mlp_model, all_data['words'], all_data['type'], cv=num_folds, n_jobs=-1)"
   ]
  },
  {
   "cell_type": "markdown",
   "metadata": {},
   "source": [
    "### Accuarcy of Multilayer Perceptron model with CountVectorizer"
   ]
  },
  {
   "cell_type": "code",
   "execution_count": 54,
   "metadata": {},
   "outputs": [
    {
     "data": {
      "text/plain": [
       "0.4812839252922097"
      ]
     },
     "execution_count": 54,
     "metadata": {},
     "output_type": "execute_result"
    }
   ],
   "source": [
    "np.mean(mlp_results['test_score'])"
   ]
  },
  {
   "cell_type": "markdown",
   "metadata": {},
   "source": [
    "### Predict the labels"
   ]
  },
  {
   "cell_type": "code",
   "execution_count": 56,
   "metadata": {},
   "outputs": [
    {
     "data": {
      "text/plain": [
       "array(['ENFP', 'ENTJ', 'ENTP', ..., 'INTJ', 'ISFP', 'INFP'], \n",
       "      dtype='<U4')"
      ]
     },
     "execution_count": 56,
     "metadata": {},
     "output_type": "execute_result"
    }
   ],
   "source": [
    "predicted_labels = cross_val_predict(mlp_model, all_data['words'], all_data['type'], cv = num_folds)\n",
    "predicted_labels"
   ]
  },
  {
   "cell_type": "markdown",
   "metadata": {},
   "source": [
    "### Plot the confusion matrix"
   ]
  },
  {
   "cell_type": "code",
   "execution_count": 57,
   "metadata": {},
   "outputs": [
    {
     "name": "stdout",
     "output_type": "stream",
     "text": [
      "Confusion matrix\n"
     ]
    },
    {
     "data": {
      "image/png": "[encoded data removed]",
      "text/plain": [
       "<matplotlib.figure.Figure at 0x233f731a400>"
      ]
     },
     "metadata": {},
     "output_type": "display_data"
    }
   ],
   "source": [
    "actual_labels = all_data['type'].tolist()\n",
    "cnf_matrix = metrics.confusion_matrix(actual_labels, predicted_labels)\n",
    "np.set_printoptions(precision=2)\n",
    "# Plot confusion matrix\n",
    "plt.figure(5)\n",
    "#fig_i += 1\n",
    "plot_confusion_matrix(cnf_matrix, classes=mbti_types_encoder.inverse_transform(range(16)), normalize=True,\n",
    "                                          title=('Confusion matrix MLP with Count Vectorizer'))\n",
    "plt.savefig('confusion_matrix_mlp_count_vectorizer.png', dpi=100)\n",
    "#plt.savefig('confusion_matrix_naive_bayes.png', bbox_inches='tight', dpi=100)\n",
    "plt.show()"
   ]
  }
 ],
 "metadata": {
  "kernelspec": {
   "display_name": "Python 3",
   "language": "python",
   "name": "python3"
  },
  "language_info": {
   "codemirror_mode": {
    "name": "ipython",
    "version": 3
   },
   "file_extension": ".py",
   "mimetype": "text/x-python",
   "name": "python",
   "nbconvert_exporter": "python",
   "pygments_lexer": "ipython3",
   "version": "3.6.1"
  }
 },
 "nbformat": 4,
 "nbformat_minor": 2
}
