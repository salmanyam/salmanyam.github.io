{
 "cells": [
  {
   "cell_type": "code",
   "execution_count": 394,
   "metadata": {},
   "outputs": [],
   "source": [
    "import re\n",
    "import numpy as np\n",
    "import pandas as pd\n",
    "import matplotlib.pyplot as plt\n",
    "import seaborn as sns\n",
    "\n",
    "from nltk.corpus import stopwords \n",
    "from nltk import word_tokenize\n",
    "from nltk.stem import PorterStemmer, WordNetLemmatizer\n",
    "\n",
    "from sklearn.preprocessing import LabelEncoder\n",
    "from sklearn import metrics\n",
    "import sklearn.utils\n",
    "\n",
    "from collections import Counter\n",
    "\n",
    "import nltk\n",
    "\n",
    "import gensim\n",
    "from gensim import corpora, models, similarities\n",
    "\n",
    "from mlp_wrapper import mlp_wrapper"
   ]
  },
  {
   "cell_type": "code",
   "execution_count": 2,
   "metadata": {
    "collapsed": true
   },
   "outputs": [],
   "source": [
    "data = pd.read_csv('mbti_1.csv')\n",
    "mbti = {'I':'Introversion', 'E':'Extroversion', 'N':'Intuition', \n",
    "        'S':'Sensing', 'T':'Thinking', 'F': 'Feeling', \n",
    "        'J':'Judging', 'P': 'Perceiving'}"
   ]
  },
  {
   "cell_type": "code",
   "execution_count": 14,
   "metadata": {},
   "outputs": [
    {
     "data": {
      "image/png": "[encoded data removed]",
      "text/plain": [
       "<matplotlib.figure.Figure at 0x19f120e06d8>"
      ]
     },
     "metadata": {},
     "output_type": "display_data"
    }
   ],
   "source": [
    "total_rows = data['type'].value_counts()\n",
    "\n",
    "plt.figure(figsize=(12,4))\n",
    "sns.barplot(total_rows.index, total_rows.values, alpha=1)\n",
    "plt.ylabel('Number of Occurrences', fontsize=12)\n",
    "plt.xlabel('MBTI Types', fontsize=12)\n",
    "plt.savefig('MBTI_types_barchart.png', dpi=100)\n",
    "plt.show()"
   ]
  },
  {
   "cell_type": "code",
   "execution_count": 17,
   "metadata": {},
   "outputs": [
    {
     "data": {
      "text/plain": [
       "id                                                       1\n",
       "type                                                  INFJ\n",
       "posts    http://www.youtube.com/watch?v=qsXHcwe3krw|||h...\n",
       "Name: 0, dtype: object"
      ]
     },
     "execution_count": 17,
     "metadata": {},
     "output_type": "execute_result"
    }
   ],
   "source": [
    "data.iloc[0]"
   ]
  },
  {
   "cell_type": "code",
   "execution_count": 117,
   "metadata": {
    "collapsed": true
   },
   "outputs": [],
   "source": [
    "def sentence_and_words(text):\n",
    "    cachedStopWords = stopwords.words(\"english\")\n",
    "    \n",
    "    stemmer = PorterStemmer()\n",
    "    lemmatizer = WordNetLemmatizer()\n",
    "\n",
    "    words = \"\"\n",
    "    line = 0\n",
    "    total_words = 0\n",
    "    \n",
    "    for item in text.split('|||'):\n",
    "        sentence = item.strip()\n",
    "        sentence = re.sub(\"[^a-zA-Z]\", \" \", sentence)\n",
    "        sentence = re.sub(' +', ' ', sentence).lower()\n",
    "        \n",
    "        if sentence and len(sentence) > 1:\n",
    "            line += 1\n",
    "            \n",
    "            new_words = [stemmer.stem(lemmatizer.lemmatize(w.strip())) for w in sentence.split(' ') \n",
    "                         if w.strip() not in cachedStopWords and len(w.strip()) > 1]\n",
    "            \n",
    "            total_words += len(new_words)\n",
    "            words += \" \".join([w for w in new_words])\n",
    "            #print(new_words)\n",
    "    return line, total_words, words"
   ]
  },
  {
   "cell_type": "code",
   "execution_count": 130,
   "metadata": {},
   "outputs": [],
   "source": [
    "data['sentences'] = 0\n",
    "data['total_words'] = 0\n",
    "data['total_urls'] = 0\n",
    "data['words'] = 0\n",
    "\n",
    "total_rows = len(data)\n",
    "\n",
    "for i in range(total_rows):\n",
    "    mbti_type = data.iloc[i]['type']\n",
    "    text = data.iloc[i]['posts']\n",
    "    \n",
    "    urls = re.findall('http[s]?://(?:[a-zA-Z]|[0-9]|[$-_@.&+]|(?:%[0-9a-fA-F][0-9a-fA-F]))+',  text)\n",
    "    text = re.sub('http[s]?://(?:[a-zA-Z]|[0-9]|[$-_@.&+]|(?:%[0-9a-fA-F][0-9a-fA-F]))+', ' ', text)\n",
    "    \n",
    "    total_sentence, total_words, words = sentence_and_words(text)\n",
    "    #print(words)\n",
    "    data.loc[data.index == i, 'sentences'] = total_sentence\n",
    "    data.loc[data.index == i, 'total_words'] = total_words\n",
    "    data.loc[data.index == i, 'total_urls'] = len(urls)\n",
    "    data.loc[data.index == i, 'words'] = words"
   ]
  },
  {
   "cell_type": "code",
   "execution_count": 136,
   "metadata": {},
   "outputs": [],
   "source": [
    "summary = pd.DataFrame(columns = ['MBTI Type', 'Average Sentences', 'Average Words', 'Average URLs'])\n",
    "#summary.columns = ['MBTI Type', 'Average Sentences', 'Average Words', 'Average URLs']\n",
    "\n",
    "# Group by the mbti type and describe the basic summary\n",
    "groups = data.groupby('type')\n",
    "\n",
    "i = 0\n",
    "for g, gdf in groups:\n",
    "    row = []\n",
    "    \n",
    "    row.append(g)\n",
    "    row.append(np.rint(gdf['sentences'].sum() / gdf['sentences'].count()).astype(int))\n",
    "    row.append(np.rint(gdf['total_words'].sum() / gdf['total_words'].count()).astype(int))\n",
    "    row.append(np.rint(gdf['total_urls'].sum() / gdf['total_urls'].count()).astype(int))\n",
    "    \n",
    "    summary.loc[i] = row\n",
    "    \n",
    "    i += 1"
   ]
  },
  {
   "cell_type": "code",
   "execution_count": 137,
   "metadata": {},
   "outputs": [
    {
     "data": {
      "text/html": [
       "<div>\n",
       "<style>\n",
       "    .dataframe thead tr:only-child th {\n",
       "        text-align: right;\n",
       "    }\n",
       "\n",
       "    .dataframe thead th {\n",
       "        text-align: left;\n",
       "    }\n",
       "\n",
       "    .dataframe tbody tr th {\n",
       "        vertical-align: top;\n",
       "    }\n",
       "</style>\n",
       "<table border=\"1\" class=\"dataframe\">\n",
       "  <thead>\n",
       "    <tr style=\"text-align: right;\">\n",
       "      <th></th>\n",
       "      <th>MBTI Type</th>\n",
       "      <th>Average Sentences</th>\n",
       "      <th>Average Words</th>\n",
       "      <th>Average URLs</th>\n",
       "    </tr>\n",
       "  </thead>\n",
       "  <tbody>\n",
       "    <tr>\n",
       "      <th>0</th>\n",
       "      <td>ENFJ</td>\n",
       "      <td>48</td>\n",
       "      <td>620</td>\n",
       "      <td>3</td>\n",
       "    </tr>\n",
       "    <tr>\n",
       "      <th>1</th>\n",
       "      <td>ENFP</td>\n",
       "      <td>47</td>\n",
       "      <td>613</td>\n",
       "      <td>3</td>\n",
       "    </tr>\n",
       "    <tr>\n",
       "      <th>2</th>\n",
       "      <td>ENTJ</td>\n",
       "      <td>48</td>\n",
       "      <td>598</td>\n",
       "      <td>3</td>\n",
       "    </tr>\n",
       "    <tr>\n",
       "      <th>3</th>\n",
       "      <td>ENTP</td>\n",
       "      <td>48</td>\n",
       "      <td>595</td>\n",
       "      <td>2</td>\n",
       "    </tr>\n",
       "    <tr>\n",
       "      <th>4</th>\n",
       "      <td>ESFJ</td>\n",
       "      <td>47</td>\n",
       "      <td>628</td>\n",
       "      <td>1</td>\n",
       "    </tr>\n",
       "    <tr>\n",
       "      <th>5</th>\n",
       "      <td>ESFP</td>\n",
       "      <td>44</td>\n",
       "      <td>495</td>\n",
       "      <td>3</td>\n",
       "    </tr>\n",
       "    <tr>\n",
       "      <th>6</th>\n",
       "      <td>ESTJ</td>\n",
       "      <td>48</td>\n",
       "      <td>599</td>\n",
       "      <td>3</td>\n",
       "    </tr>\n",
       "    <tr>\n",
       "      <th>7</th>\n",
       "      <td>ESTP</td>\n",
       "      <td>47</td>\n",
       "      <td>576</td>\n",
       "      <td>3</td>\n",
       "    </tr>\n",
       "    <tr>\n",
       "      <th>8</th>\n",
       "      <td>INFJ</td>\n",
       "      <td>47</td>\n",
       "      <td>621</td>\n",
       "      <td>3</td>\n",
       "    </tr>\n",
       "    <tr>\n",
       "      <th>9</th>\n",
       "      <td>INFP</td>\n",
       "      <td>47</td>\n",
       "      <td>607</td>\n",
       "      <td>4</td>\n",
       "    </tr>\n",
       "    <tr>\n",
       "      <th>10</th>\n",
       "      <td>INTJ</td>\n",
       "      <td>47</td>\n",
       "      <td>587</td>\n",
       "      <td>3</td>\n",
       "    </tr>\n",
       "    <tr>\n",
       "      <th>11</th>\n",
       "      <td>INTP</td>\n",
       "      <td>47</td>\n",
       "      <td>592</td>\n",
       "      <td>4</td>\n",
       "    </tr>\n",
       "    <tr>\n",
       "      <th>12</th>\n",
       "      <td>ISFJ</td>\n",
       "      <td>47</td>\n",
       "      <td>604</td>\n",
       "      <td>4</td>\n",
       "    </tr>\n",
       "    <tr>\n",
       "      <th>13</th>\n",
       "      <td>ISFP</td>\n",
       "      <td>46</td>\n",
       "      <td>561</td>\n",
       "      <td>4</td>\n",
       "    </tr>\n",
       "    <tr>\n",
       "      <th>14</th>\n",
       "      <td>ISTJ</td>\n",
       "      <td>47</td>\n",
       "      <td>591</td>\n",
       "      <td>3</td>\n",
       "    </tr>\n",
       "    <tr>\n",
       "      <th>15</th>\n",
       "      <td>ISTP</td>\n",
       "      <td>47</td>\n",
       "      <td>576</td>\n",
       "      <td>4</td>\n",
       "    </tr>\n",
       "  </tbody>\n",
       "</table>\n",
       "</div>"
      ],
      "text/plain": [
       "   MBTI Type Average Sentences Average Words Average URLs\n",
       "0       ENFJ                48           620            3\n",
       "1       ENFP                47           613            3\n",
       "2       ENTJ                48           598            3\n",
       "3       ENTP                48           595            2\n",
       "4       ESFJ                47           628            1\n",
       "5       ESFP                44           495            3\n",
       "6       ESTJ                48           599            3\n",
       "7       ESTP                47           576            3\n",
       "8       INFJ                47           621            3\n",
       "9       INFP                47           607            4\n",
       "10      INTJ                47           587            3\n",
       "11      INTP                47           592            4\n",
       "12      ISFJ                47           604            4\n",
       "13      ISFP                46           561            4\n",
       "14      ISTJ                47           591            3\n",
       "15      ISTP                47           576            4"
      ]
     },
     "execution_count": 137,
     "metadata": {},
     "output_type": "execute_result"
    }
   ],
   "source": [
    "summary"
   ]
  },
  {
   "cell_type": "markdown",
   "metadata": {},
   "source": [
    "### Basic functionality for generating confusion matrix"
   ]
  },
  {
   "cell_type": "code",
   "execution_count": 186,
   "metadata": {
    "collapsed": true
   },
   "outputs": [],
   "source": [
    "def plot_confusion_matrix(cm, classes,\n",
    "                          normalize=False,\n",
    "                          title='Confusion matrix',\n",
    "                          cmap=plt.cm.Blues):\n",
    "    \"\"\"\n",
    "    This function prints and plots the confusion matrix.\n",
    "    \"\"\"\n",
    "    if normalize:\n",
    "        cm = cm.astype('float') / cm.sum(axis=1)[:, np.newaxis]\n",
    "        print(\"Confusion matrix\")\n",
    "    else:\n",
    "        print('Confusion matrix, without normalization')\n",
    "    \n",
    "    plt.imshow(cm, interpolation='nearest', cmap=cmap)\n",
    "    plt.title(title)\n",
    "    plt.colorbar()\n",
    "    tick_marks = np.arange(len(classes))\n",
    "    plt.xticks(tick_marks, classes, rotation=45)\n",
    "    plt.yticks(tick_marks, classes)\n",
    "\n",
    "    plt.tight_layout()\n",
    "    plt.ylabel('True label')\n",
    "    plt.xlabel('Predicted label')"
   ]
  },
  {
   "cell_type": "code",
   "execution_count": 187,
   "metadata": {
    "collapsed": true
   },
   "outputs": [],
   "source": [
    "mbti_types = ['INFJ', 'ENTP', 'INTP', 'INTJ', 'ENTJ', 'ENFJ', 'INFP', 'ENFP',\n",
    "       'ISFP', 'ISTP', 'ISFJ', 'ISTJ', 'ESTP', 'ESFP', 'ESTJ', 'ESFJ']\n",
    "\n",
    "mbti_types_encoder = LabelEncoder().fit(mbti_types)"
   ]
  },
  {
   "cell_type": "markdown",
   "metadata": {},
   "source": [
    "# Classification model - Naive Bayes "
   ]
  },
  {
   "cell_type": "code",
   "execution_count": 311,
   "metadata": {},
   "outputs": [],
   "source": [
    "all_data = sklearn.utils.shuffle(data).reset_index(drop=True)\n",
    "all_data = sklearn.utils.shuffle(all_data).reset_index(drop=True)\n",
    "all_data = sklearn.utils.shuffle(all_data).reset_index(drop=True)\n",
    "\n",
    "all_data = all_data[['type', 'posts', 'sentences', 'total_words', 'words', 'total_urls']]\n",
    "\n",
    "length = len(all_data)\n",
    "train_data_len = np.floor(length * 0.8).astype(int)\n",
    "\n",
    "train_data = all_data.head(train_data_len)\n",
    "test_data = all_data.tail(length - train_data_len)"
   ]
  },
  {
   "cell_type": "code",
   "execution_count": 313,
   "metadata": {},
   "outputs": [
    {
     "data": {
      "text/plain": [
       "6940"
      ]
     },
     "execution_count": 313,
     "metadata": {},
     "output_type": "execute_result"
    }
   ],
   "source": [
    "len(train_data)"
   ]
  },
  {
   "cell_type": "code",
   "execution_count": 314,
   "metadata": {},
   "outputs": [
    {
     "data": {
      "text/plain": [
       "1735"
      ]
     },
     "execution_count": 314,
     "metadata": {},
     "output_type": "execute_result"
    }
   ],
   "source": [
    "len(test_data)"
   ]
  },
  {
   "cell_type": "markdown",
   "metadata": {},
   "source": [
    "### Initializing a couter for each of the MBTI category"
   ]
  },
  {
   "cell_type": "code",
   "execution_count": 195,
   "metadata": {},
   "outputs": [],
   "source": [
    "mbti_types = train_data['type'].unique()\n",
    "mbti_counter = dict()\n",
    "\n",
    "for mbti_type in mbti_types:\n",
    "    mbti_counter[mbti_type] = Counter()"
   ]
  },
  {
   "cell_type": "markdown",
   "metadata": {},
   "source": [
    "### Calculating the counts of each token"
   ]
  },
  {
   "cell_type": "code",
   "execution_count": 196,
   "metadata": {},
   "outputs": [],
   "source": [
    "n = len(train_data)\n",
    "for i in range(n):\n",
    "    #if i > 5:\n",
    "    #    break    \n",
    "    tokens = re.findall(r\"[\\w']+\", train_data.iloc[i]['words'])    \n",
    "    mbti_counter[train_data.iloc[i]['type']].update(tokens)"
   ]
  },
  {
   "cell_type": "markdown",
   "metadata": {},
   "source": [
    "### Calculate the class probability"
   ]
  },
  {
   "cell_type": "code",
   "execution_count": 197,
   "metadata": {},
   "outputs": [],
   "source": [
    "class_prob = {}\n",
    "total = len(train_data)\n",
    "for mbti_type in mbti_types:\n",
    "    class_prob[mbti_type] = np.log(train_data[train_data['type'] == mbti_type]['type'].count() / total)"
   ]
  },
  {
   "cell_type": "markdown",
   "metadata": {},
   "source": [
    "### Calculate the feature probability"
   ]
  },
  {
   "cell_type": "code",
   "execution_count": 198,
   "metadata": {},
   "outputs": [],
   "source": [
    "feature_prob = {}\n",
    "alpha = 1.0\n",
    "num_classes = len(train_data['type'].unique())\n",
    "for mbti_type in mbti_types:\n",
    "    total = sum(mbti_counter[mbti_type].values())\n",
    "    prob = {}\n",
    "    for token in mbti_counter[mbti_type]:\n",
    "        prob[token] = np.log((alpha + mbti_counter[mbti_type][token]) / (total + num_classes * alpha))\n",
    "    feature_prob[mbti_type] = prob"
   ]
  },
  {
   "cell_type": "markdown",
   "metadata": {},
   "source": [
    "### Setting up the model"
   ]
  },
  {
   "cell_type": "code",
   "execution_count": 199,
   "metadata": {
    "collapsed": true
   },
   "outputs": [],
   "source": [
    "model = {}\n",
    "model['class_prob'] = class_prob\n",
    "model['feature_prob'] = feature_prob"
   ]
  },
  {
   "cell_type": "markdown",
   "metadata": {},
   "source": [
    "### Prediction using the trained model"
   ]
  },
  {
   "cell_type": "code",
   "execution_count": 200,
   "metadata": {
    "collapsed": true
   },
   "outputs": [],
   "source": [
    "def naive_bayes_predict(example, model):\n",
    "    \n",
    "    tokens = re.findall(r\"[\\w']+\", example)\n",
    "    \n",
    "    min_prob = 0\n",
    "    min_label = ''\n",
    "    \n",
    "    for mbti_type in mbti_types:\n",
    "        prob = 1.0\n",
    "        for token in tokens:\n",
    "            token_prob = 1.0\n",
    "            try:\n",
    "                token_prob = model['feature_prob'][mbti_type][token]\n",
    "            except KeyError:\n",
    "                token_prob = 1.0\n",
    "\n",
    "            prob = prob + token_prob\n",
    "        prob += model['class_prob'][mbti_type]\n",
    "\n",
    "        if prob < min_prob:\n",
    "            min_prob = prob\n",
    "            min_label = mbti_type\n",
    "    \n",
    "    return min_label\n",
    "\n",
    "#test_data = pd.DataFrame.from_csv('mbti_1.csv')\n",
    "#test_data = test_data.sample(frac=0.1).reset_index(drop=True)\n",
    "\n",
    "labels = []\n",
    "n = len(test_data)\n",
    "for i in range(n):\n",
    "    label = naive_bayes_predict(test_data.iloc[i]['words'], model)\n",
    "    labels.append(label)"
   ]
  },
  {
   "cell_type": "markdown",
   "metadata": {},
   "source": [
    "### Accuracy of the Naive Bayes prediction model"
   ]
  },
  {
   "cell_type": "code",
   "execution_count": 201,
   "metadata": {},
   "outputs": [
    {
     "name": "stdout",
     "output_type": "stream",
     "text": [
      "0.16820276497695852\n"
     ]
    }
   ],
   "source": [
    "actual_labels = test_data['type'].tolist()\n",
    "total = 0\n",
    "for i in range(len(labels)):\n",
    "    if actual_labels[i] == labels[i]:\n",
    "        total += 1\n",
    "print(total / len(labels))"
   ]
  },
  {
   "cell_type": "markdown",
   "metadata": {},
   "source": [
    "### Confusion matrix"
   ]
  },
  {
   "cell_type": "code",
   "execution_count": 406,
   "metadata": {},
   "outputs": [
    {
     "name": "stdout",
     "output_type": "stream",
     "text": [
      "Confusion matrix\n"
     ]
    },
    {
     "data": {
      "image/png": "[encoded data removed]",
      "text/plain": [
       "<matplotlib.figure.Figure at 0x19f2ced97f0>"
      ]
     },
     "metadata": {},
     "output_type": "display_data"
    }
   ],
   "source": [
    "cnf_matrix = metrics.confusion_matrix(actual_labels, labels)\n",
    "np.set_printoptions(precision=2)\n",
    "# Plot confusion matrix\n",
    "plt.figure(3)\n",
    "#fig_i += 1\n",
    "plot_confusion_matrix(cnf_matrix, classes=mbti_types_encoder.inverse_transform(range(16)), normalize=True,\n",
    "                                          title=('Confusion matrix Naive Bayes'))\n",
    "plt.savefig('confusion_matrix_naive_bayes.png', dpi=100)\n",
    "#plt.savefig('confusion_matrix_naive_bayes.png', bbox_inches='tight', dpi=100)\n",
    "plt.show()"
   ]
  },
  {
   "cell_type": "markdown",
   "metadata": {},
   "source": [
    "# Converting the word to vector using gensim model"
   ]
  },
  {
   "cell_type": "code",
   "execution_count": 375,
   "metadata": {},
   "outputs": [],
   "source": [
    "def word_to_vector(data):\n",
    "    \n",
    "    data_vector = []\n",
    "    length = len(data)\n",
    "    \n",
    "    for i in range(length):\n",
    "        #if i > 0:\n",
    "         #   break\n",
    "        test = data.iloc[[i]]\n",
    "        corpus = test['posts'].values.tolist()\n",
    "        \n",
    "        tokenized_corpus = [ nltk.word_tokenize(sent) for sent in corpus ]\n",
    "        #print(tokenized_corpus)\n",
    "        unique_words = set(tokenized_corpus[0])\n",
    "        #for word in tokenized_corpus[0]:\n",
    "            #if len(word) > 2:\n",
    "            #unique_words.add(word)\n",
    "\n",
    "        gmodel = gensim.models.Word2Vec(tokenized_corpus, min_count = 1, size = 32)\n",
    "\n",
    "        vectors = []\n",
    "        for word in unique_words:\n",
    "            if len(word) < 3:\n",
    "                continue\n",
    "            vectors.append(gmodel[word])\n",
    "\n",
    "        avg_vector = np.average(vectors, axis=0)\n",
    "        data_vector.append(avg_vector)\n",
    "    \n",
    "    return np.array(data_vector)"
   ]
  },
  {
   "cell_type": "code",
   "execution_count": 380,
   "metadata": {},
   "outputs": [],
   "source": [
    "train_matrix = word_to_vector(train_data)"
   ]
  },
  {
   "cell_type": "code",
   "execution_count": 376,
   "metadata": {},
   "outputs": [],
   "source": [
    "test_matrix = word_to_vector(test_data)"
   ]
  },
  {
   "cell_type": "code",
   "execution_count": 381,
   "metadata": {},
   "outputs": [
    {
     "data": {
      "text/plain": [
       "(6940, 32)"
      ]
     },
     "execution_count": 381,
     "metadata": {},
     "output_type": "execute_result"
    }
   ],
   "source": [
    "train_matrix.shape"
   ]
  },
  {
   "cell_type": "code",
   "execution_count": 379,
   "metadata": {},
   "outputs": [
    {
     "data": {
      "text/plain": [
       "(1735, 32)"
      ]
     },
     "execution_count": 379,
     "metadata": {},
     "output_type": "execute_result"
    }
   ],
   "source": [
    "test_matrix.shape"
   ]
  },
  {
   "cell_type": "code",
   "execution_count": 382,
   "metadata": {
    "collapsed": true
   },
   "outputs": [],
   "source": [
    "train_matrix1 = np.hstack((train_matrix, np.asarray(train_data['sentences'].tolist()).reshape(train_matrix.shape[0],1)))\n",
    "train_matrix1 = np.hstack((train_matrix1, np.asarray(train_data['total_words'].tolist()).reshape(train_matrix1.shape[0],1)))\n",
    "train_matrix1 = np.hstack((train_matrix1, np.asarray(train_data['total_urls'].tolist()).reshape(train_matrix1.shape[0],1)))"
   ]
  },
  {
   "cell_type": "code",
   "execution_count": 383,
   "metadata": {},
   "outputs": [
    {
     "data": {
      "text/plain": [
       "(6940, 35)"
      ]
     },
     "execution_count": 383,
     "metadata": {},
     "output_type": "execute_result"
    }
   ],
   "source": [
    "train_matrix1.shape"
   ]
  },
  {
   "cell_type": "code",
   "execution_count": 384,
   "metadata": {
    "collapsed": true
   },
   "outputs": [],
   "source": [
    "test_matrix1 = np.hstack((test_matrix, np.asarray(test_data['sentences'].tolist()).reshape(test_matrix.shape[0],1)))\n",
    "test_matrix1 = np.hstack((test_matrix1, np.asarray(test_data['total_words'].tolist()).reshape(test_matrix1.shape[0],1)))\n",
    "test_matrix1 = np.hstack((test_matrix1, np.asarray(test_data['total_urls'].tolist()).reshape(test_matrix1.shape[0],1)))"
   ]
  },
  {
   "cell_type": "code",
   "execution_count": 385,
   "metadata": {},
   "outputs": [
    {
     "data": {
      "text/plain": [
       "(1735, 35)"
      ]
     },
     "execution_count": 385,
     "metadata": {},
     "output_type": "execute_result"
    }
   ],
   "source": [
    "test_matrix1.shape"
   ]
  },
  {
   "cell_type": "code",
   "execution_count": 386,
   "metadata": {},
   "outputs": [],
   "source": [
    "train_labels = train_data['type'].tolist()\n",
    "train_labels = mbti_types_encoder.transform(train_labels)"
   ]
  },
  {
   "cell_type": "code",
   "execution_count": 387,
   "metadata": {},
   "outputs": [
    {
     "data": {
      "text/plain": [
       "(6940,)"
      ]
     },
     "execution_count": 387,
     "metadata": {},
     "output_type": "execute_result"
    }
   ],
   "source": [
    "train_labels.shape"
   ]
  },
  {
   "cell_type": "code",
   "execution_count": 388,
   "metadata": {
    "collapsed": true
   },
   "outputs": [],
   "source": [
    "test_labels = test_data['type'].tolist()\n",
    "test_labels = mbti_types_encoder.transform(test_labels)"
   ]
  },
  {
   "cell_type": "code",
   "execution_count": 390,
   "metadata": {},
   "outputs": [
    {
     "data": {
      "text/plain": [
       "(1735,)"
      ]
     },
     "execution_count": 390,
     "metadata": {},
     "output_type": "execute_result"
    }
   ],
   "source": [
    "test_labels.shape"
   ]
  },
  {
   "cell_type": "code",
   "execution_count": 396,
   "metadata": {},
   "outputs": [
    {
     "name": "stdout",
     "output_type": "stream",
     "text": [
      "structure( 20 , 6 ), activation = logistic , solver =  lbfgs , alpha = 1e-05 , total runs = 1 , accuracy = 0.2011527377521614\n"
     ]
    }
   ],
   "source": [
    "structures = [[20,6]] #[[10, 3], [20, 6]]#, [30, 9]]\n",
    "activations = ['logistic',]# 'identity']#['identity', 'logistic', 'tanh', 'relu']\n",
    "solvers = ['lbfgs']# 'adam']#['lbfgs', 'sgd', 'adam']\n",
    "alphas = [1e-5]\n",
    "runs = [1]#, 20, 30, 40, 50]\n",
    "\n",
    "for structure in structures:\n",
    "    for activation in activations:\n",
    "        for solver in solvers:\n",
    "            for alpha in alphas:\n",
    "                for run in runs:\n",
    "                    scores = 0\n",
    "                    for i in range(run):\n",
    "                        mlp_model = mlp_wrapper(train_matrix1, train_labels, structure[0], structure[1], \n",
    "                                                activation, solver, alpha)\n",
    "                        predicted_labels = mlp_model.predict(test_matrix1)\n",
    "                        #score = np.mean(test_labels == predicted_labels)\n",
    "                        \n",
    "                        #actual_labels = test_data['type'].tolist()\n",
    "                        \n",
    "                        total = 0\n",
    "                        for i in range(len(test_labels)):\n",
    "                            if test_labels[i] == predicted_labels[i]:\n",
    "                                total += 1\n",
    "                        #print(total / len(test_labels))\n",
    "                        \n",
    "                        print('structure(',structure[0], ',',structure[1],'), activation =',activation,', solver = ',solver,\n",
    "                          ', alpha =',alpha,', total runs =',run,', accuracy =', total / len(test_labels))"
   ]
  },
  {
   "cell_type": "code",
   "execution_count": 407,
   "metadata": {},
   "outputs": [
    {
     "name": "stdout",
     "output_type": "stream",
     "text": [
      "Confusion matrix\n"
     ]
    },
    {
     "data": {
      "image/png": "[encoded data removed]",
      "text/plain": [
       "<matplotlib.figure.Figure at 0x19f2d439438>"
      ]
     },
     "metadata": {},
     "output_type": "display_data"
    }
   ],
   "source": [
    "cnf_matrix = metrics.confusion_matrix(test_labels, predicted_labels)\n",
    "np.set_printoptions(precision=2)\n",
    "# Plot confusion matrix\n",
    "plt.figure(2)\n",
    "#fig_i += 1\n",
    "plot_confusion_matrix(cnf_matrix, classes=mbti_types_encoder.inverse_transform(range(16)), normalize=True,\n",
    "                                          title=('Confusion matrix MLP with Word2Vec'))\n",
    "plt.savefig('confusion_matrix_mlp_word2vec.png', dpi=100)\n",
    "plt.show()"
   ]
  },
  {
   "cell_type": "code",
   "execution_count": null,
   "metadata": {
    "collapsed": true
   },
   "outputs": [],
   "source": []
  }
 ],
 "metadata": {
  "kernelspec": {
   "display_name": "Python 3",
   "language": "python",
   "name": "python3"
  },
  "language_info": {
   "codemirror_mode": {
    "name": "ipython",
    "version": 3
   },
   "file_extension": ".py",
   "mimetype": "text/x-python",
   "name": "python",
   "nbconvert_exporter": "python",
   "pygments_lexer": "ipython3",
   "version": "3.6.1"
  }
 },
 "nbformat": 4,
 "nbformat_minor": 2
}
