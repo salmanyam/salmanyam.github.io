{
 "cells": [
  {
   "cell_type": "code",
   "execution_count": 1,
   "metadata": {
    "collapsed": true
   },
   "outputs": [],
   "source": [
    "import re\n",
    "import numpy as np\n",
    "import pandas as pd\n",
    "import matplotlib.pyplot as plt\n",
    "import seaborn as sns\n",
    "\n",
    "from nltk.corpus import stopwords \n",
    "from nltk import word_tokenize\n",
    "from nltk.stem import PorterStemmer, WordNetLemmatizer\n",
    "\n",
    "from sklearn.preprocessing import LabelEncoder\n",
    "from sklearn import metrics\n",
    "import sklearn.utils\n",
    "\n",
    "from sklearn.model_selection import cross_validate\n",
    "from sklearn.model_selection import StratifiedKFold\n",
    "\n",
    "from sklearn.model_selection import cross_val_predict\n",
    "from sklearn.metrics import confusion_matrix\n",
    "\n",
    "from sklearn.linear_model import LogisticRegression\n",
    "from sklearn.feature_extraction.text import TfidfVectorizer, CountVectorizer\n",
    "from sklearn.pipeline import Pipeline\n",
    "from sklearn.naive_bayes import MultinomialNB\n",
    "from sklearn.neural_network import MLPClassifier as mlp"
   ]
  },
  {
   "cell_type": "code",
   "execution_count": 2,
   "metadata": {
    "collapsed": true
   },
   "outputs": [],
   "source": [
    "df = pd.read_csv('mbti_1.csv')\n",
    "mbti = {'I':'Introversion', 'E':'Extroversion', 'N':'Intuition', \n",
    "        'S':'Sensing', 'T':'Thinking', 'F': 'Feeling', \n",
    "        'J':'Judging', 'P': 'Perceiving'}"
   ]
  },
  {
   "cell_type": "markdown",
   "metadata": {},
   "source": [
    "### Balancing each paragraph by splitting it to 5 sentences per paragraph. It is believed that 5 sentences per paragrah contain balanced context"
   ]
  },
  {
   "cell_type": "code",
   "execution_count": 6,
   "metadata": {},
   "outputs": [],
   "source": [
    "def divide(l, n):\n",
    "    \"\"\"Yield successive n-sized chunks from l.\"\"\"\n",
    "    for i in range(0, len(l), n):\n",
    "        yield l[i:i + n]\n",
    "    return l\n",
    "\n",
    "number_of_lines = 5\n",
    "\n",
    "length = len(df)\n",
    "data = []\n",
    "for i in range(length):\n",
    "    #if i > 5:\n",
    "    #    break\n",
    "    #i += 1\n",
    "    mytype = df.iloc[i]['type']\n",
    "    row = df.iloc[i]['posts']\n",
    "    lines = row.split('|||')\n",
    "    paragraphs = divide(lines, number_of_lines)\n",
    "    \n",
    "    for paragraph in paragraphs:\n",
    "        new_row = [mytype, paragraph[0]]\n",
    "        data.append(new_row)\n",
    "\n",
    "data = pd.DataFrame(data)\n",
    "data.columns = ['type', 'posts']"
   ]
  },
  {
   "cell_type": "code",
   "execution_count": 8,
   "metadata": {
    "collapsed": true
   },
   "outputs": [],
   "source": [
    "def sentence_and_words(text):\n",
    "    cachedStopWords = stopwords.words(\"english\")\n",
    "    \n",
    "    stemmer = PorterStemmer()\n",
    "    lemmatizer = WordNetLemmatizer()\n",
    "\n",
    "    words = \"\"\n",
    "    line = 0\n",
    "    total_words = 0\n",
    "    \n",
    "    for item in text.split('|||'):\n",
    "        sentence = item.strip()\n",
    "        sentence = re.sub(\"[^a-zA-Z]\", \" \", sentence)\n",
    "        sentence = re.sub(' +', ' ', sentence).lower()\n",
    "        \n",
    "        if sentence and len(sentence) > 1:\n",
    "            line += 1\n",
    "            \n",
    "            new_words = [stemmer.stem(lemmatizer.lemmatize(w.strip())) for w in sentence.split(' ') \n",
    "                         if w.strip() not in cachedStopWords and len(w.strip()) > 1]\n",
    "            \n",
    "            total_words += len(new_words)\n",
    "            words += \" \".join([w for w in new_words])\n",
    "            #print(new_words)\n",
    "    return line, total_words, words"
   ]
  },
  {
   "cell_type": "markdown",
   "metadata": {},
   "source": [
    "### Cleaning the dataset by removing stop words, removing urls, stemming, and lemmatizing"
   ]
  },
  {
   "cell_type": "code",
   "execution_count": 10,
   "metadata": {
    "collapsed": true
   },
   "outputs": [],
   "source": [
    "data['sentences'] = 0\n",
    "data['total_words'] = 0\n",
    "data['total_urls'] = 0\n",
    "data['words'] = 0\n",
    "\n",
    "total_rows = len(data)\n",
    "\n",
    "for i in range(total_rows):\n",
    "    mbti_type = data.iloc[i]['type']\n",
    "    text = data.iloc[i]['posts']\n",
    "    \n",
    "    urls = re.findall('http[s]?://(?:[a-zA-Z]|[0-9]|[$-_@.&+]|(?:%[0-9a-fA-F][0-9a-fA-F]))+',  text)\n",
    "    text = re.sub('http[s]?://(?:[a-zA-Z]|[0-9]|[$-_@.&+]|(?:%[0-9a-fA-F][0-9a-fA-F]))+', ' ', text)\n",
    "    \n",
    "    total_sentence, total_words, words = sentence_and_words(text)\n",
    "    #print(words)\n",
    "    data.loc[data.index == i, 'sentences'] = total_sentence\n",
    "    data.loc[data.index == i, 'total_words'] = total_words\n",
    "    data.loc[data.index == i, 'total_urls'] = len(urls)\n",
    "    data.loc[data.index == i, 'words'] = words"
   ]
  },
  {
   "cell_type": "code",
   "execution_count": 19,
   "metadata": {},
   "outputs": [],
   "source": [
    "indices = data[data['sentences'] == 0].index\n",
    "data = data.drop(data.index[indices])"
   ]
  },
  {
   "cell_type": "code",
   "execution_count": null,
   "metadata": {},
   "outputs": [],
   "source": []
  },
  {
   "cell_type": "markdown",
   "metadata": {},
   "source": [
    "### Basic functionality for generating confusion matrix"
   ]
  },
  {
   "cell_type": "code",
   "execution_count": 23,
   "metadata": {
    "collapsed": true
   },
   "outputs": [],
   "source": [
    "def plot_confusion_matrix(cm, classes,\n",
    "                          normalize=False,\n",
    "                          title='Confusion matrix',\n",
    "                          cmap=plt.cm.Blues):\n",
    "    \"\"\"\n",
    "    This function prints and plots the confusion matrix.\n",
    "    \"\"\"\n",
    "    if normalize:\n",
    "        cm = cm.astype('float') / cm.sum(axis=1)[:, np.newaxis]\n",
    "        print(\"Confusion matrix\")\n",
    "    else:\n",
    "        print('Confusion matrix, without normalization')\n",
    "    \n",
    "    plt.imshow(cm, interpolation='nearest', cmap=cmap)\n",
    "    plt.title(title)\n",
    "    plt.colorbar()\n",
    "    tick_marks = np.arange(len(classes))\n",
    "    plt.xticks(tick_marks, classes, rotation=45)\n",
    "    plt.yticks(tick_marks, classes)\n",
    "\n",
    "    plt.tight_layout()\n",
    "    plt.ylabel('True label')\n",
    "    plt.xlabel('Predicted label')"
   ]
  },
  {
   "cell_type": "code",
   "execution_count": 24,
   "metadata": {
    "collapsed": true
   },
   "outputs": [],
   "source": [
    "mbti_types = ['INFJ', 'ENTP', 'INTP', 'INTJ', 'ENTJ', 'ENFJ', 'INFP', 'ENFP',\n",
    "       'ISFP', 'ISTP', 'ISFJ', 'ISTJ', 'ESTP', 'ESFP', 'ESTJ', 'ESFJ']\n",
    "\n",
    "mbti_types_encoder = LabelEncoder().fit(mbti_types)"
   ]
  },
  {
   "cell_type": "markdown",
   "metadata": {},
   "source": [
    "## Dividing dataset to train and test set "
   ]
  },
  {
   "cell_type": "code",
   "execution_count": 25,
   "metadata": {
    "collapsed": true
   },
   "outputs": [],
   "source": [
    "all_data = sklearn.utils.shuffle(data).reset_index(drop=True)\n",
    "all_data = sklearn.utils.shuffle(all_data).reset_index(drop=True)\n",
    "all_data = sklearn.utils.shuffle(all_data).reset_index(drop=True)\n",
    "\n",
    "all_data = all_data[['type', 'posts', 'sentences', 'total_words', 'words', 'total_urls']]\n",
    "\n",
    "length = len(all_data)\n",
    "train_data_len = np.floor(length * 0.8).astype(int)\n",
    "\n",
    "train_data = all_data.head(train_data_len)\n",
    "test_data = all_data.tail(length - train_data_len)"
   ]
  },
  {
   "cell_type": "code",
   "execution_count": 26,
   "metadata": {},
   "outputs": [
    {
     "data": {
      "text/plain": [
       "65655"
      ]
     },
     "execution_count": 26,
     "metadata": {},
     "output_type": "execute_result"
    }
   ],
   "source": [
    "len(train_data)"
   ]
  },
  {
   "cell_type": "code",
   "execution_count": 27,
   "metadata": {},
   "outputs": [
    {
     "data": {
      "text/plain": [
       "16414"
      ]
     },
     "execution_count": 27,
     "metadata": {},
     "output_type": "execute_result"
    }
   ],
   "source": [
    "len(test_data)"
   ]
  },
  {
   "cell_type": "code",
   "execution_count": 18,
   "metadata": {
    "collapsed": true
   },
   "outputs": [],
   "source": [
    "#all_data['type']"
   ]
  },
  {
   "cell_type": "markdown",
   "metadata": {},
   "source": [
    "# Multinomial Naive Bayes with Count Vectorization"
   ]
  },
  {
   "cell_type": "markdown",
   "metadata": {},
   "source": [
    "### Convert a collection of text documents to a matrix of token counts"
   ]
  },
  {
   "cell_type": "code",
   "execution_count": 28,
   "metadata": {
    "collapsed": true
   },
   "outputs": [],
   "source": [
    "np.random.seed(1)\n",
    "tf_idf_similarity = CountVectorizer(ngram_range=(1, 1), stop_words='english', lowercase = True, max_features = 5000)"
   ]
  },
  {
   "cell_type": "markdown",
   "metadata": {},
   "source": [
    "### Applying the multinomial Naive Bayes and cross validating the model"
   ]
  },
  {
   "cell_type": "code",
   "execution_count": 29,
   "metadata": {
    "collapsed": true
   },
   "outputs": [],
   "source": [
    "mn_nb_model = Pipeline([('tf_idf_similarity', tf_idf_similarity), ('mn_nb_model', MultinomialNB())])\n",
    "num_folds = StratifiedKFold(n_splits=5, shuffle=True, random_state=1)\n",
    "mn_nb_results = cross_validate(mn_nb_model, all_data['words'], all_data['type'], cv=num_folds, n_jobs=-1)"
   ]
  },
  {
   "cell_type": "markdown",
   "metadata": {},
   "source": [
    "### Accuarcy of multinomial Naive Bayes with CountVectorizer"
   ]
  },
  {
   "cell_type": "code",
   "execution_count": 30,
   "metadata": {},
   "outputs": [
    {
     "data": {
      "text/plain": [
       "0.24520814399822172"
      ]
     },
     "execution_count": 30,
     "metadata": {},
     "output_type": "execute_result"
    }
   ],
   "source": [
    "np.mean(mn_nb_results['test_score'])"
   ]
  },
  {
   "cell_type": "markdown",
   "metadata": {},
   "source": [
    "### Predict the labels"
   ]
  },
  {
   "cell_type": "code",
   "execution_count": 31,
   "metadata": {
    "collapsed": true
   },
   "outputs": [],
   "source": [
    "predicted_labels = cross_val_predict(mn_nb_model, all_data['words'], all_data['type'], cv = num_folds)"
   ]
  },
  {
   "cell_type": "code",
   "execution_count": 32,
   "metadata": {
    "scrolled": true
   },
   "outputs": [
    {
     "data": {
      "text/plain": [
       "array(['INFP', 'ENTP', 'INFJ', ..., 'ISFP', 'INFP', 'INFP'], \n",
       "      dtype='<U4')"
      ]
     },
     "execution_count": 32,
     "metadata": {},
     "output_type": "execute_result"
    }
   ],
   "source": [
    "predicted_labels"
   ]
  },
  {
   "cell_type": "markdown",
   "metadata": {},
   "source": [
    "### Plot the confusion matrix"
   ]
  },
  {
   "cell_type": "code",
   "execution_count": 33,
   "metadata": {},
   "outputs": [
    {
     "name": "stdout",
     "output_type": "stream",
     "text": [
      "Confusion matrix\n"
     ]
    },
    {
     "data": {
      "image/png": "[encoded data removed]",
      "text/plain": [
       "<matplotlib.figure.Figure at 0x2e0c7494d30>"
      ]
     },
     "metadata": {},
     "output_type": "display_data"
    }
   ],
   "source": [
    "actual_labels = all_data['type'].tolist()\n",
    "cnf_matrix = metrics.confusion_matrix(actual_labels, predicted_labels)\n",
    "np.set_printoptions(precision=2)\n",
    "# Plot confusion matrix\n",
    "plt.figure(4)\n",
    "#fig_i += 1\n",
    "plot_confusion_matrix(cnf_matrix, classes=mbti_types_encoder.inverse_transform(range(16)), normalize=True,\n",
    "                                          title=('Confusion matrix Multinomial NB with Count Vectorizer (balanced dataset)'))\n",
    "plt.savefig('confusion_matrix_mnb_count_vectorizer_balanced.png', dpi=100)\n",
    "#plt.savefig('confusion_matrix_naive_bayes.png', bbox_inches='tight', dpi=100)\n",
    "plt.show()"
   ]
  },
  {
   "cell_type": "markdown",
   "metadata": {},
   "source": [
    "# Logistic Regression with Count Vectorization"
   ]
  },
  {
   "cell_type": "markdown",
   "metadata": {},
   "source": [
    "### Applying logistic regression and cross validating the model"
   ]
  },
  {
   "cell_type": "code",
   "execution_count": 34,
   "metadata": {
    "collapsed": true
   },
   "outputs": [],
   "source": [
    "logistic = LogisticRegression(class_weight=\"balanced\", C=0.005)\n",
    "logistic_model = Pipeline([('tf_idf_similarity', tf_idf_similarity), ('logistic_model', logistic)])\n",
    "num_folds = StratifiedKFold(n_splits=5, shuffle=True, random_state=1)\n",
    "logistic_results = cross_validate(logistic_model, all_data['words'], all_data['type'], cv=num_folds, n_jobs=-1)"
   ]
  },
  {
   "cell_type": "markdown",
   "metadata": {},
   "source": [
    "### Accuarcy of logistic regression model with CountVectorizer"
   ]
  },
  {
   "cell_type": "code",
   "execution_count": 35,
   "metadata": {},
   "outputs": [
    {
     "data": {
      "text/plain": [
       "0.20566857690848589"
      ]
     },
     "execution_count": 35,
     "metadata": {},
     "output_type": "execute_result"
    }
   ],
   "source": [
    "np.mean(logistic_results['test_score'])"
   ]
  },
  {
   "cell_type": "markdown",
   "metadata": {},
   "source": [
    "### Predict the labels"
   ]
  },
  {
   "cell_type": "code",
   "execution_count": 36,
   "metadata": {},
   "outputs": [
    {
     "data": {
      "text/plain": [
       "array(['INTP', 'ENTP', 'INFJ', ..., 'ESTP', 'INTP', 'ESTJ'], dtype=object)"
      ]
     },
     "execution_count": 36,
     "metadata": {},
     "output_type": "execute_result"
    }
   ],
   "source": [
    "predicted_labels = cross_val_predict(logistic_model, all_data['words'], all_data['type'], cv = num_folds)\n",
    "predicted_labels"
   ]
  },
  {
   "cell_type": "markdown",
   "metadata": {},
   "source": [
    "### Plot the confusion matrix"
   ]
  },
  {
   "cell_type": "code",
   "execution_count": 37,
   "metadata": {},
   "outputs": [
    {
     "name": "stdout",
     "output_type": "stream",
     "text": [
      "Confusion matrix\n"
     ]
    },
    {
     "data": {
      "image/png": "[encoded data removed]",
      "text/plain": [
       "<matplotlib.figure.Figure at 0x2e0c7677160>"
      ]
     },
     "metadata": {},
     "output_type": "display_data"
    }
   ],
   "source": [
    "actual_labels = all_data['type'].tolist()\n",
    "cnf_matrix = metrics.confusion_matrix(actual_labels, predicted_labels)\n",
    "np.set_printoptions(precision=2)\n",
    "\n",
    "plt.figure(5)\n",
    "#fig_i += 1\n",
    "plot_confusion_matrix(cnf_matrix, classes=mbti_types_encoder.inverse_transform(range(16)), normalize=True,\n",
    "                                          title=('Confusion matrix LR with Count Vectorizer (balanced dataset)'))\n",
    "plt.savefig('confusion_matrix_lr_vectorizer_balanced.png', dpi=100)\n",
    "#plt.savefig('confusion_matrix_naive_bayes.png', bbox_inches='tight', dpi=100)\n",
    "plt.show()"
   ]
  },
  {
   "cell_type": "markdown",
   "metadata": {},
   "source": [
    "# Multilayer Perceptron with with Count Vectorization"
   ]
  },
  {
   "cell_type": "markdown",
   "metadata": {},
   "source": [
    "### Applying multilayer percentron and cross validating the model"
   ]
  },
  {
   "cell_type": "code",
   "execution_count": null,
   "metadata": {
    "collapsed": true
   },
   "outputs": [],
   "source": [
    "mlp_model = mlp(solver='lbfgs', activation='logistic', alpha=1e-5, hidden_layer_sizes=(20, 6), \n",
    "            random_state=1, max_iter=500)\n",
    "mlp_model = Pipeline([('tf_idf_similarity', tf_idf_similarity), ('mlp_model', mlp_model)])\n",
    "num_folds = StratifiedKFold(n_splits=5, shuffle=True, random_state=1)\n",
    "mlp_results = cross_validate(mlp_model, all_data['words'], all_data['type'], cv=num_folds, n_jobs=-1)"
   ]
  },
  {
   "cell_type": "markdown",
   "metadata": {},
   "source": [
    "### Accuarcy of logistic regression model with CountVectorizer"
   ]
  },
  {
   "cell_type": "code",
   "execution_count": null,
   "metadata": {
    "collapsed": true
   },
   "outputs": [],
   "source": [
    "np.mean(mlp_results['test_score'])"
   ]
  },
  {
   "cell_type": "markdown",
   "metadata": {},
   "source": [
    "### Predict the labels"
   ]
  },
  {
   "cell_type": "code",
   "execution_count": null,
   "metadata": {
    "collapsed": true
   },
   "outputs": [],
   "source": [
    "predicted_labels = cross_val_predict(mlp_model, all_data['words'], all_data['type'], cv = num_folds)\n",
    "predicted_labels"
   ]
  },
  {
   "cell_type": "markdown",
   "metadata": {},
   "source": [
    "### Plot the confusion matrix"
   ]
  },
  {
   "cell_type": "code",
   "execution_count": null,
   "metadata": {
    "collapsed": true
   },
   "outputs": [],
   "source": [
    "actual_labels = all_data['type'].tolist()\n",
    "cnf_matrix = metrics.confusion_matrix(actual_labels, predicted_labels)\n",
    "np.set_printoptions(precision=2)\n",
    "# Plot confusion matrix\n",
    "plt.figure(5)\n",
    "#fig_i += 1\n",
    "plot_confusion_matrix(cnf_matrix, classes=mbti_types_encoder.inverse_transform(range(16)), normalize=True,\n",
    "                                          title=('Confusion matrix MLP with Count Vectorizer (balanced dataset)'))\n",
    "plt.savefig('confusion_matrix_mlp_count_vectorizer_balanced.png', dpi=100)\n",
    "#plt.savefig('confusion_matrix_naive_bayes.png', bbox_inches='tight', dpi=100)\n",
    "plt.show()"
   ]
  }
 ],
 "metadata": {
  "kernelspec": {
   "display_name": "Python 3",
   "language": "python",
   "name": "python3"
  },
  "language_info": {
   "codemirror_mode": {
    "name": "ipython",
    "version": 3
   },
   "file_extension": ".py",
   "mimetype": "text/x-python",
   "name": "python",
   "nbconvert_exporter": "python",
   "pygments_lexer": "ipython3",
   "version": "3.6.1"
  }
 },
 "nbformat": 4,
 "nbformat_minor": 2
}
