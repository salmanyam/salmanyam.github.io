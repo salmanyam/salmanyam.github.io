{
 "cells": [
  {
   "cell_type": "code",
   "execution_count": 1,
   "metadata": {
    "collapsed": true
   },
   "outputs": [],
   "source": [
    "%config IPCompleter.greedy=True"
   ]
  },
  {
   "cell_type": "code",
   "execution_count": 2,
   "metadata": {
    "collapsed": true
   },
   "outputs": [],
   "source": [
    "import numpy as np\n",
    "import re\n",
    "import pandas as pd\n",
    "from collections import Counter\n",
    "from nltk.corpus import stopwords\n",
    "import sklearn.utils"
   ]
  },
  {
   "cell_type": "code",
   "execution_count": 3,
   "metadata": {
    "collapsed": true
   },
   "outputs": [],
   "source": [
    "cachedStopWords = stopwords.words(\"english\")"
   ]
  },
  {
   "cell_type": "code",
   "execution_count": 4,
   "metadata": {
    "collapsed": true
   },
   "outputs": [],
   "source": [
    "#df = pd.DataFrame.from_csv('mbti_1.csv')\n",
    "df = pd.DataFrame.from_csv('modified_data.csv')"
   ]
  },
  {
   "cell_type": "code",
   "execution_count": 22,
   "metadata": {
    "collapsed": true
   },
   "outputs": [],
   "source": [
    "'''Balancing dataset'''\n",
    "total_examples = len(df)\n",
    "categories = df['type'].unique()\n",
    "num_classes = len(categories)\n",
    "examples_per_type = np.floor(total_examples / num_classes).astype(int)\n",
    "\n",
    "frames = []\n",
    "for category in categories:\n",
    "    tmp_df = df[df['type'] == category]\n",
    "    tmp_df = tmp_df.head(examples_per_type)\n",
    "    frames.append(tmp_df)\n",
    "    #print(len(tmp_df))\n",
    "df = pd.concat(frames).reset_index(drop=True)"
   ]
  },
  {
   "cell_type": "code",
   "execution_count": 293,
   "metadata": {
    "collapsed": true
   },
   "outputs": [],
   "source": [
    "#groups = df.groupby('type')\n",
    "#for g, gdf in groups:\n",
    "    #print(gdf['type'].count())"
   ]
  },
  {
   "cell_type": "code",
   "execution_count": 35,
   "metadata": {
    "collapsed": true
   },
   "outputs": [],
   "source": [
    "df = sklearn.utils.shuffle(df).reset_index(drop=True)\n",
    "df = sklearn.utils.shuffle(df).reset_index(drop=True)\n",
    "df = sklearn.utils.shuffle(df).reset_index(drop=True)"
   ]
  },
  {
   "cell_type": "code",
   "execution_count": 300,
   "metadata": {
    "collapsed": true
   },
   "outputs": [],
   "source": [
    "#for i in range(5):\n",
    "#    df = df.sample(frac=1).reset_index(drop=True)"
   ]
  },
  {
   "cell_type": "code",
   "execution_count": 46,
   "metadata": {
    "collapsed": true
   },
   "outputs": [],
   "source": [
    "length = len(df)\n",
    "train_data_len = np.floor(length * 0.6).astype(int)\n",
    "#train_data = df.sample(frac=0.9).reset_index(drop=True)\n",
    "#test_data = df.sample(frac=0.1).reset_index(drop=True)\n",
    "train_data = df.tail(train_data_len)\n",
    "test_data = df.head(length - train_data_len)"
   ]
  },
  {
   "cell_type": "code",
   "execution_count": 37,
   "metadata": {},
   "outputs": [
    {
     "data": {
      "text/plain": [
       "16"
      ]
     },
     "execution_count": 37,
     "metadata": {},
     "output_type": "execute_result"
    }
   ],
   "source": [
    "train_data['type'].nunique()"
   ]
  },
  {
   "cell_type": "code",
   "execution_count": 38,
   "metadata": {},
   "outputs": [
    {
     "data": {
      "text/plain": [
       "16"
      ]
     },
     "execution_count": 38,
     "metadata": {},
     "output_type": "execute_result"
    }
   ],
   "source": [
    "test_data['type'].nunique()"
   ]
  },
  {
   "cell_type": "code",
   "execution_count": 47,
   "metadata": {
    "collapsed": true
   },
   "outputs": [],
   "source": [
    "'''Initializing a couter for each of the MBTI category'''\n",
    "mbti_types = train_data['type'].unique()\n",
    "mbti_counter = dict()\n",
    "\n",
    "for mbti_type in mbti_types:\n",
    "    mbti_counter[mbti_type] = Counter()"
   ]
  },
  {
   "cell_type": "code",
   "execution_count": 159,
   "metadata": {
    "collapsed": true
   },
   "outputs": [],
   "source": [
    "#train_data.to_csv('train_data.csv', sep='\\t', encoding='utf-8')\n",
    "#test_data.to_csv('test_data.csv', sep='\\t', encoding='utf-8')"
   ]
  },
  {
   "cell_type": "code",
   "execution_count": 48,
   "metadata": {
    "collapsed": true
   },
   "outputs": [],
   "source": [
    "n = len(train_data)\n",
    "for i in range(n):\n",
    "    #if i > 5:\n",
    "    #    break\n",
    "    #text = re.sub(r'(?i)\\b((?:https?://|www\\d{0,3}[.]|[a-z0-9.\\-]+[.][a-z]{2,4}/)(?:[^\\s()<>]+|\\(([^\\s()<>]+|(\\([^\\s()<>]+\\)))*\\))+(?:\\(([^\\s()<>]+|(\\([^\\s()<>]+\\)))*\\)|[^\\s`!()\\[\\]{};:\\'\".,<>?«»“”‘’]))', '', train_data.iloc[i]['posts'])\n",
    "    tokens = re.findall(r\"[\\w']+\", train_data.iloc[i]['posts'])\n",
    "    #print(tokens)\n",
    "    #tokens = [word for word in tokens if word not in cachedStopWords and len(word) >= 3]\n",
    "    #print(tokens)\n",
    "    mbti_counter[train_data.iloc[i]['type']].update(tokens)\n",
    "    #print(mbti_counter[data.iloc[i]['type']])\n",
    "    #print()"
   ]
  },
  {
   "cell_type": "code",
   "execution_count": 49,
   "metadata": {
    "collapsed": true
   },
   "outputs": [],
   "source": [
    "'''Calculate the class probability'''\n",
    "class_prob = {}\n",
    "total = len(train_data)\n",
    "for mbti_type in mbti_types:\n",
    "    class_prob[mbti_type] = np.log(train_data[train_data['type'] == mbti_type]['type'].count() / total)"
   ]
  },
  {
   "cell_type": "code",
   "execution_count": 50,
   "metadata": {
    "collapsed": true
   },
   "outputs": [],
   "source": [
    "'''Calculate the feature probability'''\n",
    "feature_prob = {}\n",
    "alpha = 1.0\n",
    "num_classes = len(train_data['type'].unique())\n",
    "for mbti_type in mbti_types:\n",
    "    total = sum(mbti_counter[mbti_type].values())\n",
    "    prob = {}\n",
    "    for token in mbti_counter[mbti_type]:\n",
    "        prob[token] = np.log((alpha + mbti_counter[mbti_type][token]) / (total + num_classes * alpha))\n",
    "    feature_prob[mbti_type] = prob"
   ]
  },
  {
   "cell_type": "code",
   "execution_count": 51,
   "metadata": {
    "collapsed": true
   },
   "outputs": [],
   "source": [
    "model = {}\n",
    "model['class_prob'] = class_prob\n",
    "model['feature_prob'] = feature_prob"
   ]
  },
  {
   "cell_type": "code",
   "execution_count": 52,
   "metadata": {
    "collapsed": true
   },
   "outputs": [],
   "source": [
    "'''Prediction accuracy on traning data'''\n",
    "def naive_bayes_predict(example, model):\n",
    "    #print(example)\n",
    "    #text = re.sub(r'(?i)\\b((?:https?://|www\\d{0,3}[.]|[a-z0-9.\\-]+[.][a-z]{2,4}/)(?:[^\\s()<>]+|\\(([^\\s()<>]+|(\\([^\\s()<>]+\\)))*\\))+(?:\\(([^\\s()<>]+|(\\([^\\s()<>]+\\)))*\\)|[^\\s`!()\\[\\]{};:\\'\".,<>?«»“”‘’]))', '', example)\n",
    "    tokens = re.findall(r\"[\\w']+\", example)\n",
    "    \n",
    "    min_prob = 0\n",
    "    min_label = ''\n",
    "    \n",
    "    for mbti_type in mbti_types:\n",
    "        prob = 1.0\n",
    "        for token in tokens:\n",
    "            token_prob = 1.0\n",
    "            try:\n",
    "                token_prob = model['feature_prob'][mbti_type][token]\n",
    "            except KeyError:\n",
    "                token_prob = 1.0\n",
    "\n",
    "            prob = prob + token_prob\n",
    "        prob += model['class_prob'][mbti_type]\n",
    "\n",
    "        if prob < min_prob:\n",
    "            min_prob = prob\n",
    "            min_label = mbti_type\n",
    "    \n",
    "    return min_label\n",
    "\n",
    "#test_data = pd.DataFrame.from_csv('mbti_1.csv')\n",
    "#test_data = test_data.sample(frac=0.1).reset_index(drop=True)\n",
    "labels = []\n",
    "n = len(test_data)\n",
    "for i in range(n):\n",
    "    label = naive_bayes_predict(test_data.iloc[i]['posts'], model)\n",
    "    labels.append(label)"
   ]
  },
  {
   "cell_type": "code",
   "execution_count": 53,
   "metadata": {},
   "outputs": [
    {
     "name": "stdout",
     "output_type": "stream",
     "text": [
      "0.16491537895511404\n"
     ]
    }
   ],
   "source": [
    "actual_labels = test_data['type'].tolist()\n",
    "total = 0\n",
    "for i in range(len(labels)):\n",
    "    if actual_labels[i] == labels[i]:\n",
    "        total += 1\n",
    "print(total / len(labels))"
   ]
  }
 ],
 "metadata": {
  "kernelspec": {
   "display_name": "Python 3",
   "language": "python",
   "name": "python3"
  },
  "language_info": {
   "codemirror_mode": {
    "name": "ipython",
    "version": 3
   },
   "file_extension": ".py",
   "mimetype": "text/x-python",
   "name": "python",
   "nbconvert_exporter": "python",
   "pygments_lexer": "ipython3",
   "version": "3.6.1"
  }
 },
 "nbformat": 4,
 "nbformat_minor": 2
}
